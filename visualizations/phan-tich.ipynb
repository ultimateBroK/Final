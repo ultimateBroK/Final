{
 "cells": [
  {
   "cell_type": "markdown",
   "metadata": {},
   "source": [
    "# 📊 Phân Tích Chuyên Sâu Kết Quả K-means - Phát Hiện Rửa Tiền\n",
    "\n",
    "**Dự án:** Phân tích giao dịch HI-Large  \n",
    "**Dữ liệu:** 179 triệu giao dịch  \n",
    "**Phương pháp:** MLlib K-means (k-means++) với Apache Spark + Polars  \n",
    "**Pipeline:** `full_pipeline_spark_v2.sh`\n",
    "\n",
    "---"
   ]
  },
  {
   "cell_type": "markdown",
   "metadata": {},
   "source": [
    "## 📑 Mục Lục\n",
    "\n",
    "1. [Setup & Import](#1)\n",
    "2. [Tìm Snapshot Mới Nhất](#2)\n",
    "3. [Đọc & Phân Tích Dữ Liệu Cluster](#3)\n",
    "4. [Biểu Đồ Phân Phối Cụm](#4)\n",
    "5. [Phân Tích Rửa Tiền](#5)\n",
    "6. [Phân Tích Centroids (Tâm Cụm)](#6)\n",
    "7. [So Sánh Đặc Trưng Giữa Các Cụm](#7)\n",
    "8. [Phân Tích Mối Tương Quan](#8)\n",
    "9. [Phân Tích Loại Tiền Tệ](#9)\n",
    "10. [Tỷ Lệ Rủi Ro Chi Tiết](#10)\n",
    "11. [Kết Luận & Khuyến Nghị](#11)"
   ]
  },
  {
   "cell_type": "markdown",
   "metadata": {},
   "source": [
    "<a id=\"1\"></a>\n",
    "## 1. ⚙️ Setup & Import Thư Viện"
   ]
  },
  {
   "cell_type": "code",
   "execution_count": 1,
   "metadata": {},
   "outputs": [
    {
     "name": "stdout",
     "output_type": "stream",
     "text": [
      "✅ Đã import thư viện thành công!\n"
     ]
    }
   ],
   "source": [
    "import polars as pl\n",
    "import numpy as np\n",
    "import pandas as pd\n",
    "import plotly.express as px\n",
    "import plotly.graph_objects as go\n",
    "from plotly.subplots import make_subplots\n",
    "import matplotlib.pyplot as plt\n",
    "import seaborn as sns\n",
    "from pathlib import Path\n",
    "import json\n",
    "from datetime import datetime\n",
    "import warnings\n",
    "warnings.filterwarnings('ignore')\n",
    "\n",
    "# Cấu hình\n",
    "plt.style.use('seaborn-v0_8-darkgrid')\n",
    "sns.set_palette(\"husl\")\n",
    "pd.options.display.float_format = '{:.2f}'.format\n",
    "\n",
    "# Tên các đặc trưng (theo thứ tự trong centroids)\n",
    "FEATURE_NAMES = [\n",
    "    'amount_received',\n",
    "    'amount_paid', \n",
    "    'amount_ratio',\n",
    "    'hour',\n",
    "    'day_of_week',\n",
    "    'route_hash',\n",
    "    'recv_curr_encoded',\n",
    "    'payment_curr_encoded',\n",
    "    'payment_format_encoded'\n",
    "]\n",
    "\n",
    "print(\"✅ Đã import thư viện thành công!\")"
   ]
  },
  {
   "cell_type": "markdown",
   "metadata": {},
   "source": [
    "<a id=\"2\"></a>\n",
    "## 2. 📂 Tìm Snapshot Mới Nhất"
   ]
  },
  {
   "cell_type": "code",
   "execution_count": 2,
   "metadata": {},
   "outputs": [
    {
     "name": "stdout",
     "output_type": "stream",
     "text": [
      "📂 Snapshot mới nhất: snapshot_20251030_095037\n",
      "🕐 Thời gian: 2025-10-30T09:50:37.241787\n",
      "📊 Tổng kích thước: 342.75 MB\n",
      "\n",
      "📄 Files trong snapshot:\n",
      "  - final_centroids.txt: 0.00 MB\n",
      "  - clustered_results.txt: 342.75 MB\n",
      "  - suspicious_transactions.csv: 0.00 MB\n"
     ]
    }
   ],
   "source": [
    "# Đường dẫn\n",
    "ROOT = Path.cwd().parent if 'visualizations' in str(Path.cwd()) else Path.cwd()\n",
    "DATA_RAW = ROOT / 'data' / 'raw' / 'HI-Large_Trans.csv'\n",
    "SNAPSHOTS_DIR = ROOT / 'snapshots'\n",
    "\n",
    "# Tìm snapshot mới nhất\n",
    "snapshots = sorted([d for d in SNAPSHOTS_DIR.iterdir() if d.is_dir()], reverse=True)\n",
    "\n",
    "if not snapshots:\n",
    "    raise FileNotFoundError(\"❌ Không tìm thấy snapshot nào. Hãy chạy pipeline trước!\")\n",
    "\n",
    "latest_snapshot = snapshots[0]\n",
    "print(f\"📂 Snapshot mới nhất: {latest_snapshot.name}\")\n",
    "\n",
    "# Đọc metadata\n",
    "metadata_file = latest_snapshot / 'metadata.json'\n",
    "with open(metadata_file) as f:\n",
    "    metadata = json.load(f)\n",
    "\n",
    "print(f\"🕐 Thời gian: {metadata['datetime']}\")\n",
    "print(f\"📊 Tổng kích thước: {metadata['total_size_mb']:.2f} MB\")\n",
    "print(f\"\\n📄 Files trong snapshot:\")\n",
    "for file_info in metadata['files']:\n",
    "    print(f\"  - {file_info['name']}: {file_info['size_mb']:.2f} MB\")"
   ]
  },
  {
   "cell_type": "markdown",
   "metadata": {},
   "source": [
    "<a id=\"3\"></a>\n",
    "## 3. 📊 Đọc & Phân Tích Dữ Liệu Cluster"
   ]
  },
  {
   "cell_type": "code",
   "execution_count": 3,
   "metadata": {},
   "outputs": [
    {
     "name": "stdout",
     "output_type": "stream",
     "text": [
      "Đang đọc: /home/ultimatebrok/Downloads/Final/snapshots/snapshot_20251030_095037/clustered_results.txt\n",
      "✅ Đã tải 179,702,229 nhãn cụm\n",
      "Số cụm: 5\n",
      "\n",
      "📊 Phân phối cụm:\n",
      "  Cụm 0:   36,926,395 ( 20.55%) ██████████\n",
      "  Cụm 1:   69,939,082 ( 38.92%) ███████████████████\n",
      "  Cụm 2:   68,931,713 ( 38.36%) ███████████████████\n",
      "  Cụm 3:           18 (  0.00%) \n",
      "  Cụm 4:    3,905,021 (  2.17%) █\n"
     ]
    }
   ],
   "source": [
    "# Đọc kết quả phân cụm\n",
    "clusters_file = latest_snapshot / 'clustered_results.txt'\n",
    "print(f\"Đang đọc: {clusters_file}\")\n",
    "\n",
    "clusters = np.loadtxt(clusters_file, dtype=int)\n",
    "\n",
    "print(f\"✅ Đã tải {len(clusters):,} nhãn cụm\")\n",
    "print(f\"Số cụm: {np.unique(clusters).size}\")\n",
    "\n",
    "# Đếm phân phối\n",
    "unique, counts = np.unique(clusters, return_counts=True)\n",
    "cluster_distribution = dict(zip(unique, counts))\n",
    "\n",
    "print(f\"\\n📊 Phân phối cụm:\")\n",
    "for cluster_id, count in sorted(cluster_distribution.items()):\n",
    "    percentage = (count / len(clusters)) * 100\n",
    "    bar = '█' * int(percentage / 2)\n",
    "    print(f\"  Cụm {cluster_id}: {count:>12,} ({percentage:>6.2f}%) {bar}\")"
   ]
  },
  {
   "cell_type": "markdown",
   "metadata": {},
   "source": [
    "<a id=\"4\"></a>\n",
    "## 4. 📈 Biểu Đồ Phân Phối Cụm"
   ]
  },
  {
   "cell_type": "code",
   "execution_count": 4,
   "metadata": {},
   "outputs": [
    {
     "data": {
      "application/vnd.plotly.v1+json": {
       "config": {
        "plotlyServerURL": "https://plot.ly"
       },
       "data": [
        {
         "marker": {
          "color": "lightblue"
         },
         "name": "Số lượng",
         "text": [
          "36926395",
          "69939082",
          "68931713",
          "18",
          "3905021"
         ],
         "textposition": "outside",
         "texttemplate": "%{text:,.0f}",
         "type": "bar",
         "x": [
          0,
          1,
          2,
          3,
          4
         ],
         "xaxis": "x",
         "y": [
          36926395,
          69939082,
          68931713,
          18,
          3905021
         ],
         "yaxis": "y"
        },
        {
         "domain": {
          "x": [
           0.55,
           1
          ],
          "y": [
           0,
           1
          ]
         },
         "labels": [
          "Cụm 0",
          "Cụm 1",
          "Cụm 2",
          "Cụm 3",
          "Cụm 4"
         ],
         "name": "Phân phối",
         "textinfo": "label+percent",
         "type": "pie",
         "values": [
          36926395,
          69939082,
          68931713,
          18,
          3905021
         ]
        }
       ],
       "layout": {
        "annotations": [
         {
          "font": {
           "size": 16
          },
          "showarrow": false,
          "text": "Số Lượng Giao Dịch",
          "x": 0.225,
          "xanchor": "center",
          "xref": "paper",
          "y": 1,
          "yanchor": "bottom",
          "yref": "paper"
         },
         {
          "font": {
           "size": 16
          },
          "showarrow": false,
          "text": "Tỷ Lệ Phần Trăm",
          "x": 0.775,
          "xanchor": "center",
          "xref": "paper",
          "y": 1,
          "yanchor": "bottom",
          "yref": "paper"
         }
        ],
        "height": 500,
        "showlegend": false,
        "template": {
         "data": {
          "bar": [
           {
            "error_x": {
             "color": "#2a3f5f"
            },
            "error_y": {
             "color": "#2a3f5f"
            },
            "marker": {
             "line": {
              "color": "#E5ECF6",
              "width": 0.5
             },
             "pattern": {
              "fillmode": "overlay",
              "size": 10,
              "solidity": 0.2
             }
            },
            "type": "bar"
           }
          ],
          "barpolar": [
           {
            "marker": {
             "line": {
              "color": "#E5ECF6",
              "width": 0.5
             },
             "pattern": {
              "fillmode": "overlay",
              "size": 10,
              "solidity": 0.2
             }
            },
            "type": "barpolar"
           }
          ],
          "carpet": [
           {
            "aaxis": {
             "endlinecolor": "#2a3f5f",
             "gridcolor": "white",
             "linecolor": "white",
             "minorgridcolor": "white",
             "startlinecolor": "#2a3f5f"
            },
            "baxis": {
             "endlinecolor": "#2a3f5f",
             "gridcolor": "white",
             "linecolor": "white",
             "minorgridcolor": "white",
             "startlinecolor": "#2a3f5f"
            },
            "type": "carpet"
           }
          ],
          "choropleth": [
           {
            "colorbar": {
             "outlinewidth": 0,
             "ticks": ""
            },
            "type": "choropleth"
           }
          ],
          "contour": [
           {
            "colorbar": {
             "outlinewidth": 0,
             "ticks": ""
            },
            "colorscale": [
             [
              0,
              "#0d0887"
             ],
             [
              0.1111111111111111,
              "#46039f"
             ],
             [
              0.2222222222222222,
              "#7201a8"
             ],
             [
              0.3333333333333333,
              "#9c179e"
             ],
             [
              0.4444444444444444,
              "#bd3786"
             ],
             [
              0.5555555555555556,
              "#d8576b"
             ],
             [
              0.6666666666666666,
              "#ed7953"
             ],
             [
              0.7777777777777778,
              "#fb9f3a"
             ],
             [
              0.8888888888888888,
              "#fdca26"
             ],
             [
              1,
              "#f0f921"
             ]
            ],
            "type": "contour"
           }
          ],
          "contourcarpet": [
           {
            "colorbar": {
             "outlinewidth": 0,
             "ticks": ""
            },
            "type": "contourcarpet"
           }
          ],
          "heatmap": [
           {
            "colorbar": {
             "outlinewidth": 0,
             "ticks": ""
            },
            "colorscale": [
             [
              0,
              "#0d0887"
             ],
             [
              0.1111111111111111,
              "#46039f"
             ],
             [
              0.2222222222222222,
              "#7201a8"
             ],
             [
              0.3333333333333333,
              "#9c179e"
             ],
             [
              0.4444444444444444,
              "#bd3786"
             ],
             [
              0.5555555555555556,
              "#d8576b"
             ],
             [
              0.6666666666666666,
              "#ed7953"
             ],
             [
              0.7777777777777778,
              "#fb9f3a"
             ],
             [
              0.8888888888888888,
              "#fdca26"
             ],
             [
              1,
              "#f0f921"
             ]
            ],
            "type": "heatmap"
           }
          ],
          "histogram": [
           {
            "marker": {
             "pattern": {
              "fillmode": "overlay",
              "size": 10,
              "solidity": 0.2
             }
            },
            "type": "histogram"
           }
          ],
          "histogram2d": [
           {
            "colorbar": {
             "outlinewidth": 0,
             "ticks": ""
            },
            "colorscale": [
             [
              0,
              "#0d0887"
             ],
             [
              0.1111111111111111,
              "#46039f"
             ],
             [
              0.2222222222222222,
              "#7201a8"
             ],
             [
              0.3333333333333333,
              "#9c179e"
             ],
             [
              0.4444444444444444,
              "#bd3786"
             ],
             [
              0.5555555555555556,
              "#d8576b"
             ],
             [
              0.6666666666666666,
              "#ed7953"
             ],
             [
              0.7777777777777778,
              "#fb9f3a"
             ],
             [
              0.8888888888888888,
              "#fdca26"
             ],
             [
              1,
              "#f0f921"
             ]
            ],
            "type": "histogram2d"
           }
          ],
          "histogram2dcontour": [
           {
            "colorbar": {
             "outlinewidth": 0,
             "ticks": ""
            },
            "colorscale": [
             [
              0,
              "#0d0887"
             ],
             [
              0.1111111111111111,
              "#46039f"
             ],
             [
              0.2222222222222222,
              "#7201a8"
             ],
             [
              0.3333333333333333,
              "#9c179e"
             ],
             [
              0.4444444444444444,
              "#bd3786"
             ],
             [
              0.5555555555555556,
              "#d8576b"
             ],
             [
              0.6666666666666666,
              "#ed7953"
             ],
             [
              0.7777777777777778,
              "#fb9f3a"
             ],
             [
              0.8888888888888888,
              "#fdca26"
             ],
             [
              1,
              "#f0f921"
             ]
            ],
            "type": "histogram2dcontour"
           }
          ],
          "mesh3d": [
           {
            "colorbar": {
             "outlinewidth": 0,
             "ticks": ""
            },
            "type": "mesh3d"
           }
          ],
          "parcoords": [
           {
            "line": {
             "colorbar": {
              "outlinewidth": 0,
              "ticks": ""
             }
            },
            "type": "parcoords"
           }
          ],
          "pie": [
           {
            "automargin": true,
            "type": "pie"
           }
          ],
          "scatter": [
           {
            "fillpattern": {
             "fillmode": "overlay",
             "size": 10,
             "solidity": 0.2
            },
            "type": "scatter"
           }
          ],
          "scatter3d": [
           {
            "line": {
             "colorbar": {
              "outlinewidth": 0,
              "ticks": ""
             }
            },
            "marker": {
             "colorbar": {
              "outlinewidth": 0,
              "ticks": ""
             }
            },
            "type": "scatter3d"
           }
          ],
          "scattercarpet": [
           {
            "marker": {
             "colorbar": {
              "outlinewidth": 0,
              "ticks": ""
             }
            },
            "type": "scattercarpet"
           }
          ],
          "scattergeo": [
           {
            "marker": {
             "colorbar": {
              "outlinewidth": 0,
              "ticks": ""
             }
            },
            "type": "scattergeo"
           }
          ],
          "scattergl": [
           {
            "marker": {
             "colorbar": {
              "outlinewidth": 0,
              "ticks": ""
             }
            },
            "type": "scattergl"
           }
          ],
          "scattermap": [
           {
            "marker": {
             "colorbar": {
              "outlinewidth": 0,
              "ticks": ""
             }
            },
            "type": "scattermap"
           }
          ],
          "scattermapbox": [
           {
            "marker": {
             "colorbar": {
              "outlinewidth": 0,
              "ticks": ""
             }
            },
            "type": "scattermapbox"
           }
          ],
          "scatterpolar": [
           {
            "marker": {
             "colorbar": {
              "outlinewidth": 0,
              "ticks": ""
             }
            },
            "type": "scatterpolar"
           }
          ],
          "scatterpolargl": [
           {
            "marker": {
             "colorbar": {
              "outlinewidth": 0,
              "ticks": ""
             }
            },
            "type": "scatterpolargl"
           }
          ],
          "scatterternary": [
           {
            "marker": {
             "colorbar": {
              "outlinewidth": 0,
              "ticks": ""
             }
            },
            "type": "scatterternary"
           }
          ],
          "surface": [
           {
            "colorbar": {
             "outlinewidth": 0,
             "ticks": ""
            },
            "colorscale": [
             [
              0,
              "#0d0887"
             ],
             [
              0.1111111111111111,
              "#46039f"
             ],
             [
              0.2222222222222222,
              "#7201a8"
             ],
             [
              0.3333333333333333,
              "#9c179e"
             ],
             [
              0.4444444444444444,
              "#bd3786"
             ],
             [
              0.5555555555555556,
              "#d8576b"
             ],
             [
              0.6666666666666666,
              "#ed7953"
             ],
             [
              0.7777777777777778,
              "#fb9f3a"
             ],
             [
              0.8888888888888888,
              "#fdca26"
             ],
             [
              1,
              "#f0f921"
             ]
            ],
            "type": "surface"
           }
          ],
          "table": [
           {
            "cells": {
             "fill": {
              "color": "#EBF0F8"
             },
             "line": {
              "color": "white"
             }
            },
            "header": {
             "fill": {
              "color": "#C8D4E3"
             },
             "line": {
              "color": "white"
             }
            },
            "type": "table"
           }
          ]
         },
         "layout": {
          "annotationdefaults": {
           "arrowcolor": "#2a3f5f",
           "arrowhead": 0,
           "arrowwidth": 1
          },
          "autotypenumbers": "strict",
          "coloraxis": {
           "colorbar": {
            "outlinewidth": 0,
            "ticks": ""
           }
          },
          "colorscale": {
           "diverging": [
            [
             0,
             "#8e0152"
            ],
            [
             0.1,
             "#c51b7d"
            ],
            [
             0.2,
             "#de77ae"
            ],
            [
             0.3,
             "#f1b6da"
            ],
            [
             0.4,
             "#fde0ef"
            ],
            [
             0.5,
             "#f7f7f7"
            ],
            [
             0.6,
             "#e6f5d0"
            ],
            [
             0.7,
             "#b8e186"
            ],
            [
             0.8,
             "#7fbc41"
            ],
            [
             0.9,
             "#4d9221"
            ],
            [
             1,
             "#276419"
            ]
           ],
           "sequential": [
            [
             0,
             "#0d0887"
            ],
            [
             0.1111111111111111,
             "#46039f"
            ],
            [
             0.2222222222222222,
             "#7201a8"
            ],
            [
             0.3333333333333333,
             "#9c179e"
            ],
            [
             0.4444444444444444,
             "#bd3786"
            ],
            [
             0.5555555555555556,
             "#d8576b"
            ],
            [
             0.6666666666666666,
             "#ed7953"
            ],
            [
             0.7777777777777778,
             "#fb9f3a"
            ],
            [
             0.8888888888888888,
             "#fdca26"
            ],
            [
             1,
             "#f0f921"
            ]
           ],
           "sequentialminus": [
            [
             0,
             "#0d0887"
            ],
            [
             0.1111111111111111,
             "#46039f"
            ],
            [
             0.2222222222222222,
             "#7201a8"
            ],
            [
             0.3333333333333333,
             "#9c179e"
            ],
            [
             0.4444444444444444,
             "#bd3786"
            ],
            [
             0.5555555555555556,
             "#d8576b"
            ],
            [
             0.6666666666666666,
             "#ed7953"
            ],
            [
             0.7777777777777778,
             "#fb9f3a"
            ],
            [
             0.8888888888888888,
             "#fdca26"
            ],
            [
             1,
             "#f0f921"
            ]
           ]
          },
          "colorway": [
           "#636efa",
           "#EF553B",
           "#00cc96",
           "#ab63fa",
           "#FFA15A",
           "#19d3f3",
           "#FF6692",
           "#B6E880",
           "#FF97FF",
           "#FECB52"
          ],
          "font": {
           "color": "#2a3f5f"
          },
          "geo": {
           "bgcolor": "white",
           "lakecolor": "white",
           "landcolor": "#E5ECF6",
           "showlakes": true,
           "showland": true,
           "subunitcolor": "white"
          },
          "hoverlabel": {
           "align": "left"
          },
          "hovermode": "closest",
          "mapbox": {
           "style": "light"
          },
          "paper_bgcolor": "white",
          "plot_bgcolor": "#E5ECF6",
          "polar": {
           "angularaxis": {
            "gridcolor": "white",
            "linecolor": "white",
            "ticks": ""
           },
           "bgcolor": "#E5ECF6",
           "radialaxis": {
            "gridcolor": "white",
            "linecolor": "white",
            "ticks": ""
           }
          },
          "scene": {
           "xaxis": {
            "backgroundcolor": "#E5ECF6",
            "gridcolor": "white",
            "gridwidth": 2,
            "linecolor": "white",
            "showbackground": true,
            "ticks": "",
            "zerolinecolor": "white"
           },
           "yaxis": {
            "backgroundcolor": "#E5ECF6",
            "gridcolor": "white",
            "gridwidth": 2,
            "linecolor": "white",
            "showbackground": true,
            "ticks": "",
            "zerolinecolor": "white"
           },
           "zaxis": {
            "backgroundcolor": "#E5ECF6",
            "gridcolor": "white",
            "gridwidth": 2,
            "linecolor": "white",
            "showbackground": true,
            "ticks": "",
            "zerolinecolor": "white"
           }
          },
          "shapedefaults": {
           "line": {
            "color": "#2a3f5f"
           }
          },
          "ternary": {
           "aaxis": {
            "gridcolor": "white",
            "linecolor": "white",
            "ticks": ""
           },
           "baxis": {
            "gridcolor": "white",
            "linecolor": "white",
            "ticks": ""
           },
           "bgcolor": "#E5ECF6",
           "caxis": {
            "gridcolor": "white",
            "linecolor": "white",
            "ticks": ""
           }
          },
          "title": {
           "x": 0.05
          },
          "xaxis": {
           "automargin": true,
           "gridcolor": "white",
           "linecolor": "white",
           "ticks": "",
           "title": {
            "standoff": 15
           },
           "zerolinecolor": "white",
           "zerolinewidth": 2
          },
          "yaxis": {
           "automargin": true,
           "gridcolor": "white",
           "linecolor": "white",
           "ticks": "",
           "title": {
            "standoff": 15
           },
           "zerolinecolor": "white",
           "zerolinewidth": 2
          }
         }
        },
        "title": {
         "text": "Phân Phối Giao Dịch Theo Cụm"
        },
        "xaxis": {
         "anchor": "y",
         "domain": [
          0,
          0.45
         ]
        },
        "yaxis": {
         "anchor": "x",
         "domain": [
          0,
          1
         ]
        }
       }
      }
     },
     "metadata": {},
     "output_type": "display_data"
    }
   ],
   "source": [
    "# Tạo DataFrame\n",
    "cluster_df = pl.DataFrame({\n",
    "    'cluster': list(cluster_distribution.keys()),\n",
    "    'count': list(cluster_distribution.values())\n",
    "}).with_columns(\n",
    "    (pl.col('count') / len(clusters) * 100).alias('percentage')\n",
    ").sort('cluster')\n",
    "\n",
    "# Biểu đồ phân phối\n",
    "fig = make_subplots(\n",
    "    rows=1, cols=2,\n",
    "    specs=[[{\"type\": \"bar\"}, {\"type\": \"pie\"}]],\n",
    "    subplot_titles=(\"Số Lượng Giao Dịch\", \"Tỷ Lệ Phần Trăm\")\n",
    ")\n",
    "\n",
    "# Bar chart\n",
    "fig.add_trace(\n",
    "    go.Bar(\n",
    "        x=cluster_df['cluster'].to_list(),\n",
    "        y=cluster_df['count'].to_list(),\n",
    "        text=cluster_df['count'].to_list(),\n",
    "        texttemplate='%{text:,.0f}',\n",
    "        textposition='outside',\n",
    "        marker_color='lightblue',\n",
    "        name='Số lượng'\n",
    "    ),\n",
    "    row=1, col=1\n",
    ")\n",
    "\n",
    "# Pie chart\n",
    "fig.add_trace(\n",
    "    go.Pie(\n",
    "        labels=[f'Cụm {i}' for i in cluster_df['cluster'].to_list()],\n",
    "        values=cluster_df['count'].to_list(),\n",
    "        textinfo='label+percent',\n",
    "        name='Phân phối'\n",
    "    ),\n",
    "    row=1, col=2\n",
    ")\n",
    "\n",
    "fig.update_layout(height=500, showlegend=False, title_text=\"Phân Phối Giao Dịch Theo Cụm\")\n",
    "fig.show()"
   ]
  },
  {
   "cell_type": "markdown",
   "metadata": {},
   "source": [
    "<a id=\"5\"></a>\n",
    "## 5. 💰 Phân Tích Rửa Tiền"
   ]
  },
  {
   "cell_type": "code",
   "execution_count": 5,
   "metadata": {},
   "outputs": [
    {
     "name": "stdout",
     "output_type": "stream",
     "text": [
      "⏳ Đang phân tích rửa tiền với Lazy Loading...\n",
      "Lưu ý: Quá trình này có thể mất vài phút\n",
      "\n",
      "✅ Hoàn tất phân tích!\n",
      "\n",
      "shape: (5, 4)\n",
      "┌─────────┬──────────┬──────────────────┬─────────────────┐\n",
      "│ cluster ┆ total    ┆ laundering_count ┆ laundering_rate │\n",
      "│ ---     ┆ ---      ┆ ---              ┆ ---             │\n",
      "│ i64     ┆ u32      ┆ i64              ┆ f64             │\n",
      "╞═════════╪══════════╪══════════════════╪═════════════════╡\n",
      "│ 0       ┆ 36926395 ┆ 29920            ┆ 0.081026        │\n",
      "│ 1       ┆ 69939082 ┆ 78960            ┆ 0.112898        │\n",
      "│ 2       ┆ 68931713 ┆ 115057           ┆ 0.166914        │\n",
      "│ 3       ┆ 18       ┆ 1                ┆ 5.555556        │\n",
      "│ 4       ┆ 3905021  ┆ 1608             ┆ 0.041178        │\n",
      "└─────────┴──────────┴──────────────────┴─────────────────┘\n",
      "\n",
      "======================================================================\n",
      "shape: (5, 4)\n",
      "┌─────────┬─────────────────────┬─────────────────┬───────────┐\n",
      "│ cluster ┆ avg_amount_received ┆ avg_amount_paid ┆ avg_ratio │\n",
      "│ ---     ┆ ---                 ┆ ---             ┆ ---       │\n",
      "│ i64     ┆ f64                 ┆ f64             ┆ f64       │\n",
      "╞═════════╪═════════════════════╪═════════════════╪═══════════╡\n",
      "│ 0       ┆ 8.6214e6            ┆ 8.6299e6        ┆ 1.011883  │\n",
      "│ 1       ┆ 4.5675e6            ┆ 2.4980e6        ┆ 3.26235   │\n",
      "│ 2       ┆ 4.2570e6            ┆ 2.4565e6        ┆ 1.148551  │\n",
      "│ 3       ┆ 4.2387e12           ┆ 2.8571e12       ┆ 21.536394 │\n",
      "│ 4       ┆ 804.072407          ┆ 804.072407      ┆ 1.0       │\n",
      "└─────────┴─────────────────────┴─────────────────┴───────────┘\n"
     ]
    }
   ],
   "source": [
    "print(\"⏳ Đang phân tích rửa tiền với Lazy Loading...\")\n",
    "print(\"Lưu ý: Quá trình này có thể mất vài phút\\n\")\n",
    "\n",
    "# Dùng scan_csv (lazy)\n",
    "df_lazy = pl.scan_csv(DATA_RAW)\n",
    "\n",
    "# Thêm cột cluster\n",
    "df_lazy = df_lazy.with_columns(\n",
    "    pl.Series('cluster', clusters).alias('cluster')\n",
    ")\n",
    "\n",
    "# Tính toán thống kê rửa tiền\n",
    "laundering_stats = df_lazy.group_by('cluster').agg([\n",
    "    pl.len().alias('total'),\n",
    "    pl.col('Is Laundering').sum().alias('laundering_count'),\n",
    "    (pl.col('Is Laundering').sum() / pl.len() * 100).alias('laundering_rate')\n",
    "]).sort('cluster').collect()\n",
    "\n",
    "# Tính toán đặc trưng trung bình theo cụm\n",
    "cluster_features = df_lazy.group_by('cluster').agg([\n",
    "    pl.col('Amount Received').mean().alias('avg_amount_received'),\n",
    "    pl.col('Amount Paid').mean().alias('avg_amount_paid'),\n",
    "    (pl.col('Amount Received') / pl.col('Amount Paid')).mean().alias('avg_ratio')\n",
    "]).sort('cluster').collect()\n",
    "\n",
    "print(\"✅ Hoàn tất phân tích!\\n\")\n",
    "print(laundering_stats)\n",
    "print(\"\\n\" + \"=\"*70)\n",
    "print(cluster_features)"
   ]
  },
  {
   "cell_type": "markdown",
   "metadata": {},
   "source": [
    "<a id=\"6\"></a>\n",
    "## 6. 🎯 Phân Tích Centroids (Tâm Cụm)"
   ]
  },
  {
   "cell_type": "code",
   "execution_count": 6,
   "metadata": {},
   "outputs": [
    {
     "name": "stdout",
     "output_type": "stream",
     "text": [
      "✅ Đã tải 5 tâm cụm, mỗi tâm có 9 đặc trưng\n",
      "\n",
      "📊 Giá trị các đặc trưng tại tâm cụm:\n",
      "     amount_received  amount_paid  amount_ratio  hour  day_of_week  route_hash  recv_curr_encoded  payment_curr_encoded  payment_format_encoded\n",
      "Cụm                                                                                                                                            \n",
      "0               0.00         0.00         -0.00 -0.00        -0.00        0.01               1.67                  1.67                    0.12\n",
      "1              -0.00        -0.00          0.00 -0.87         0.01       -0.11              -0.44                 -0.44                    0.08\n",
      "2              -0.00        -0.00         -0.00  0.88        -0.01        0.11              -0.44                 -0.44                    0.16\n",
      "3            2334.80      2056.51          0.02 -0.53         0.08       -0.49               0.57                  0.26                    0.56\n",
      "4              -0.00        -0.00         -0.00  0.00        -0.01       -0.17              -0.11                 -0.11                   -5.36\n"
     ]
    },
    {
     "data": {
      "application/vnd.plotly.v1+json": {
       "config": {
        "plotlyServerURL": "https://plot.ly"
       },
       "data": [
        {
         "colorscale": [
          [
           0,
           "rgb(103,0,31)"
          ],
          [
           0.1,
           "rgb(178,24,43)"
          ],
          [
           0.2,
           "rgb(214,96,77)"
          ],
          [
           0.3,
           "rgb(244,165,130)"
          ],
          [
           0.4,
           "rgb(253,219,199)"
          ],
          [
           0.5,
           "rgb(247,247,247)"
          ],
          [
           0.6,
           "rgb(209,229,240)"
          ],
          [
           0.7,
           "rgb(146,197,222)"
          ],
          [
           0.8,
           "rgb(67,147,195)"
          ],
          [
           0.9,
           "rgb(33,102,172)"
          ],
          [
           1,
           "rgb(5,48,97)"
          ]
         ],
         "text": {
          "bdata": "/Knx0k1iYD/6fmq8dJNoP/yp8dJNYlC//Knx0k1iUL/8qfHSTWJQv/p+arx0k4g/eekmMQis+j9OYhBYObT6PxkEVg4tsr0//Knx0k1iUL/8qfHSTWJQv/yp8dJNYmA/g8DKoUW26785tMh2vp+KP4GVQ4ts57u/KVyPwvUo3L/TTWIQWDncv8P1KFyPwrU//Knx0k1iUL/8qfHSTWJQv/yp8dJNYlC/VOOlm8Qg7D/6fmq8dJOIv8l2vp8aL70/KVyPwvUo3L/TTWIQWDncv9ejcD0K18M/pHA9Cpc9okDsUbgeBRGgQFpkO99PjZc/oBov3SQG4b8bL90kBoG1P65H4XoUrt+/EoPAyqFF4j9MN4lBYOXQP5ZDi2zn++E/+n5qvHSTaL/6fmq8dJNov/yp8dJNYlC//Knx0k1iYD/6fmq8dJOIv76fGi/dJMa/yXa+nxovvb/ZzvdT46W7v1YOLbKdbxXA",
          "dtype": "f8",
          "shape": "5, 9"
         },
         "textfont": {
          "size": 10
         },
         "texttemplate": "%{text}",
         "type": "heatmap",
         "x": [
          "amount_received",
          "amount_paid",
          "amount_ratio",
          "hour",
          "day_of_week",
          "route_hash",
          "recv_curr_encoded",
          "payment_curr_encoded",
          "payment_format_encoded"
         ],
         "y": [
          "Cụm 0",
          "Cụm 1",
          "Cụm 2",
          "Cụm 3",
          "Cụm 4"
         ],
         "z": {
          "bdata": "kxlvK702Wz8QrRVtjnNrPxwkRPmCFlK/6tDpeTcWRL/JOEayR6hJvzBkdavnpIc/wFyLFqCt+j8v4GWGjbL6P3+FzJVBtb0/ZD+LpUi+Qr9Z2xSPi2pRvyDSb18Hzlk/urvOhvyz67+qEI/Ey9OJP/QZUG9Gzbu/ml33ViQm3L8knYGRlzXcv8yaWOArurU/MV2I1R9hSL9UAmISLuRRv/xtT5DY7k6/BRkBFY4g7D96UiY1tAGIv0uTUtDtJb0/X0Av3Lkw3L/yzqEMVTHcv/G76ZYd4sM/6Qq2EZc9okBF1hpKBRGgQGQfZFkw8Zc/VOBkG7gD4b+WtOIbCp+1P9pU3SObq9+/Q+OJIM5D4j+a0Y+GU+bQP5PjTulg/eE/L1BSYAFMab89D+7O2m1nv8lWl1MCYlK/+u/Ba5c2XD99WG/UCtOHv6pJ8IY0Ksa/m5FB7iJMvb/HhJhLqra7v2x2pPrObxXA",
          "dtype": "f8",
          "shape": "5, 9"
         },
         "zmid": 0
        }
       ],
       "layout": {
        "height": 500,
        "template": {
         "data": {
          "bar": [
           {
            "error_x": {
             "color": "#2a3f5f"
            },
            "error_y": {
             "color": "#2a3f5f"
            },
            "marker": {
             "line": {
              "color": "#E5ECF6",
              "width": 0.5
             },
             "pattern": {
              "fillmode": "overlay",
              "size": 10,
              "solidity": 0.2
             }
            },
            "type": "bar"
           }
          ],
          "barpolar": [
           {
            "marker": {
             "line": {
              "color": "#E5ECF6",
              "width": 0.5
             },
             "pattern": {
              "fillmode": "overlay",
              "size": 10,
              "solidity": 0.2
             }
            },
            "type": "barpolar"
           }
          ],
          "carpet": [
           {
            "aaxis": {
             "endlinecolor": "#2a3f5f",
             "gridcolor": "white",
             "linecolor": "white",
             "minorgridcolor": "white",
             "startlinecolor": "#2a3f5f"
            },
            "baxis": {
             "endlinecolor": "#2a3f5f",
             "gridcolor": "white",
             "linecolor": "white",
             "minorgridcolor": "white",
             "startlinecolor": "#2a3f5f"
            },
            "type": "carpet"
           }
          ],
          "choropleth": [
           {
            "colorbar": {
             "outlinewidth": 0,
             "ticks": ""
            },
            "type": "choropleth"
           }
          ],
          "contour": [
           {
            "colorbar": {
             "outlinewidth": 0,
             "ticks": ""
            },
            "colorscale": [
             [
              0,
              "#0d0887"
             ],
             [
              0.1111111111111111,
              "#46039f"
             ],
             [
              0.2222222222222222,
              "#7201a8"
             ],
             [
              0.3333333333333333,
              "#9c179e"
             ],
             [
              0.4444444444444444,
              "#bd3786"
             ],
             [
              0.5555555555555556,
              "#d8576b"
             ],
             [
              0.6666666666666666,
              "#ed7953"
             ],
             [
              0.7777777777777778,
              "#fb9f3a"
             ],
             [
              0.8888888888888888,
              "#fdca26"
             ],
             [
              1,
              "#f0f921"
             ]
            ],
            "type": "contour"
           }
          ],
          "contourcarpet": [
           {
            "colorbar": {
             "outlinewidth": 0,
             "ticks": ""
            },
            "type": "contourcarpet"
           }
          ],
          "heatmap": [
           {
            "colorbar": {
             "outlinewidth": 0,
             "ticks": ""
            },
            "colorscale": [
             [
              0,
              "#0d0887"
             ],
             [
              0.1111111111111111,
              "#46039f"
             ],
             [
              0.2222222222222222,
              "#7201a8"
             ],
             [
              0.3333333333333333,
              "#9c179e"
             ],
             [
              0.4444444444444444,
              "#bd3786"
             ],
             [
              0.5555555555555556,
              "#d8576b"
             ],
             [
              0.6666666666666666,
              "#ed7953"
             ],
             [
              0.7777777777777778,
              "#fb9f3a"
             ],
             [
              0.8888888888888888,
              "#fdca26"
             ],
             [
              1,
              "#f0f921"
             ]
            ],
            "type": "heatmap"
           }
          ],
          "histogram": [
           {
            "marker": {
             "pattern": {
              "fillmode": "overlay",
              "size": 10,
              "solidity": 0.2
             }
            },
            "type": "histogram"
           }
          ],
          "histogram2d": [
           {
            "colorbar": {
             "outlinewidth": 0,
             "ticks": ""
            },
            "colorscale": [
             [
              0,
              "#0d0887"
             ],
             [
              0.1111111111111111,
              "#46039f"
             ],
             [
              0.2222222222222222,
              "#7201a8"
             ],
             [
              0.3333333333333333,
              "#9c179e"
             ],
             [
              0.4444444444444444,
              "#bd3786"
             ],
             [
              0.5555555555555556,
              "#d8576b"
             ],
             [
              0.6666666666666666,
              "#ed7953"
             ],
             [
              0.7777777777777778,
              "#fb9f3a"
             ],
             [
              0.8888888888888888,
              "#fdca26"
             ],
             [
              1,
              "#f0f921"
             ]
            ],
            "type": "histogram2d"
           }
          ],
          "histogram2dcontour": [
           {
            "colorbar": {
             "outlinewidth": 0,
             "ticks": ""
            },
            "colorscale": [
             [
              0,
              "#0d0887"
             ],
             [
              0.1111111111111111,
              "#46039f"
             ],
             [
              0.2222222222222222,
              "#7201a8"
             ],
             [
              0.3333333333333333,
              "#9c179e"
             ],
             [
              0.4444444444444444,
              "#bd3786"
             ],
             [
              0.5555555555555556,
              "#d8576b"
             ],
             [
              0.6666666666666666,
              "#ed7953"
             ],
             [
              0.7777777777777778,
              "#fb9f3a"
             ],
             [
              0.8888888888888888,
              "#fdca26"
             ],
             [
              1,
              "#f0f921"
             ]
            ],
            "type": "histogram2dcontour"
           }
          ],
          "mesh3d": [
           {
            "colorbar": {
             "outlinewidth": 0,
             "ticks": ""
            },
            "type": "mesh3d"
           }
          ],
          "parcoords": [
           {
            "line": {
             "colorbar": {
              "outlinewidth": 0,
              "ticks": ""
             }
            },
            "type": "parcoords"
           }
          ],
          "pie": [
           {
            "automargin": true,
            "type": "pie"
           }
          ],
          "scatter": [
           {
            "fillpattern": {
             "fillmode": "overlay",
             "size": 10,
             "solidity": 0.2
            },
            "type": "scatter"
           }
          ],
          "scatter3d": [
           {
            "line": {
             "colorbar": {
              "outlinewidth": 0,
              "ticks": ""
             }
            },
            "marker": {
             "colorbar": {
              "outlinewidth": 0,
              "ticks": ""
             }
            },
            "type": "scatter3d"
           }
          ],
          "scattercarpet": [
           {
            "marker": {
             "colorbar": {
              "outlinewidth": 0,
              "ticks": ""
             }
            },
            "type": "scattercarpet"
           }
          ],
          "scattergeo": [
           {
            "marker": {
             "colorbar": {
              "outlinewidth": 0,
              "ticks": ""
             }
            },
            "type": "scattergeo"
           }
          ],
          "scattergl": [
           {
            "marker": {
             "colorbar": {
              "outlinewidth": 0,
              "ticks": ""
             }
            },
            "type": "scattergl"
           }
          ],
          "scattermap": [
           {
            "marker": {
             "colorbar": {
              "outlinewidth": 0,
              "ticks": ""
             }
            },
            "type": "scattermap"
           }
          ],
          "scattermapbox": [
           {
            "marker": {
             "colorbar": {
              "outlinewidth": 0,
              "ticks": ""
             }
            },
            "type": "scattermapbox"
           }
          ],
          "scatterpolar": [
           {
            "marker": {
             "colorbar": {
              "outlinewidth": 0,
              "ticks": ""
             }
            },
            "type": "scatterpolar"
           }
          ],
          "scatterpolargl": [
           {
            "marker": {
             "colorbar": {
              "outlinewidth": 0,
              "ticks": ""
             }
            },
            "type": "scatterpolargl"
           }
          ],
          "scatterternary": [
           {
            "marker": {
             "colorbar": {
              "outlinewidth": 0,
              "ticks": ""
             }
            },
            "type": "scatterternary"
           }
          ],
          "surface": [
           {
            "colorbar": {
             "outlinewidth": 0,
             "ticks": ""
            },
            "colorscale": [
             [
              0,
              "#0d0887"
             ],
             [
              0.1111111111111111,
              "#46039f"
             ],
             [
              0.2222222222222222,
              "#7201a8"
             ],
             [
              0.3333333333333333,
              "#9c179e"
             ],
             [
              0.4444444444444444,
              "#bd3786"
             ],
             [
              0.5555555555555556,
              "#d8576b"
             ],
             [
              0.6666666666666666,
              "#ed7953"
             ],
             [
              0.7777777777777778,
              "#fb9f3a"
             ],
             [
              0.8888888888888888,
              "#fdca26"
             ],
             [
              1,
              "#f0f921"
             ]
            ],
            "type": "surface"
           }
          ],
          "table": [
           {
            "cells": {
             "fill": {
              "color": "#EBF0F8"
             },
             "line": {
              "color": "white"
             }
            },
            "header": {
             "fill": {
              "color": "#C8D4E3"
             },
             "line": {
              "color": "white"
             }
            },
            "type": "table"
           }
          ]
         },
         "layout": {
          "annotationdefaults": {
           "arrowcolor": "#2a3f5f",
           "arrowhead": 0,
           "arrowwidth": 1
          },
          "autotypenumbers": "strict",
          "coloraxis": {
           "colorbar": {
            "outlinewidth": 0,
            "ticks": ""
           }
          },
          "colorscale": {
           "diverging": [
            [
             0,
             "#8e0152"
            ],
            [
             0.1,
             "#c51b7d"
            ],
            [
             0.2,
             "#de77ae"
            ],
            [
             0.3,
             "#f1b6da"
            ],
            [
             0.4,
             "#fde0ef"
            ],
            [
             0.5,
             "#f7f7f7"
            ],
            [
             0.6,
             "#e6f5d0"
            ],
            [
             0.7,
             "#b8e186"
            ],
            [
             0.8,
             "#7fbc41"
            ],
            [
             0.9,
             "#4d9221"
            ],
            [
             1,
             "#276419"
            ]
           ],
           "sequential": [
            [
             0,
             "#0d0887"
            ],
            [
             0.1111111111111111,
             "#46039f"
            ],
            [
             0.2222222222222222,
             "#7201a8"
            ],
            [
             0.3333333333333333,
             "#9c179e"
            ],
            [
             0.4444444444444444,
             "#bd3786"
            ],
            [
             0.5555555555555556,
             "#d8576b"
            ],
            [
             0.6666666666666666,
             "#ed7953"
            ],
            [
             0.7777777777777778,
             "#fb9f3a"
            ],
            [
             0.8888888888888888,
             "#fdca26"
            ],
            [
             1,
             "#f0f921"
            ]
           ],
           "sequentialminus": [
            [
             0,
             "#0d0887"
            ],
            [
             0.1111111111111111,
             "#46039f"
            ],
            [
             0.2222222222222222,
             "#7201a8"
            ],
            [
             0.3333333333333333,
             "#9c179e"
            ],
            [
             0.4444444444444444,
             "#bd3786"
            ],
            [
             0.5555555555555556,
             "#d8576b"
            ],
            [
             0.6666666666666666,
             "#ed7953"
            ],
            [
             0.7777777777777778,
             "#fb9f3a"
            ],
            [
             0.8888888888888888,
             "#fdca26"
            ],
            [
             1,
             "#f0f921"
            ]
           ]
          },
          "colorway": [
           "#636efa",
           "#EF553B",
           "#00cc96",
           "#ab63fa",
           "#FFA15A",
           "#19d3f3",
           "#FF6692",
           "#B6E880",
           "#FF97FF",
           "#FECB52"
          ],
          "font": {
           "color": "#2a3f5f"
          },
          "geo": {
           "bgcolor": "white",
           "lakecolor": "white",
           "landcolor": "#E5ECF6",
           "showlakes": true,
           "showland": true,
           "subunitcolor": "white"
          },
          "hoverlabel": {
           "align": "left"
          },
          "hovermode": "closest",
          "mapbox": {
           "style": "light"
          },
          "paper_bgcolor": "white",
          "plot_bgcolor": "#E5ECF6",
          "polar": {
           "angularaxis": {
            "gridcolor": "white",
            "linecolor": "white",
            "ticks": ""
           },
           "bgcolor": "#E5ECF6",
           "radialaxis": {
            "gridcolor": "white",
            "linecolor": "white",
            "ticks": ""
           }
          },
          "scene": {
           "xaxis": {
            "backgroundcolor": "#E5ECF6",
            "gridcolor": "white",
            "gridwidth": 2,
            "linecolor": "white",
            "showbackground": true,
            "ticks": "",
            "zerolinecolor": "white"
           },
           "yaxis": {
            "backgroundcolor": "#E5ECF6",
            "gridcolor": "white",
            "gridwidth": 2,
            "linecolor": "white",
            "showbackground": true,
            "ticks": "",
            "zerolinecolor": "white"
           },
           "zaxis": {
            "backgroundcolor": "#E5ECF6",
            "gridcolor": "white",
            "gridwidth": 2,
            "linecolor": "white",
            "showbackground": true,
            "ticks": "",
            "zerolinecolor": "white"
           }
          },
          "shapedefaults": {
           "line": {
            "color": "#2a3f5f"
           }
          },
          "ternary": {
           "aaxis": {
            "gridcolor": "white",
            "linecolor": "white",
            "ticks": ""
           },
           "baxis": {
            "gridcolor": "white",
            "linecolor": "white",
            "ticks": ""
           },
           "bgcolor": "#E5ECF6",
           "caxis": {
            "gridcolor": "white",
            "linecolor": "white",
            "ticks": ""
           }
          },
          "title": {
           "x": 0.05
          },
          "xaxis": {
           "automargin": true,
           "gridcolor": "white",
           "linecolor": "white",
           "ticks": "",
           "title": {
            "standoff": 15
           },
           "zerolinecolor": "white",
           "zerolinewidth": 2
          },
          "yaxis": {
           "automargin": true,
           "gridcolor": "white",
           "linecolor": "white",
           "ticks": "",
           "title": {
            "standoff": 15
           },
           "zerolinecolor": "white",
           "zerolinewidth": 2
          }
         }
        },
        "title": {
         "text": "Heatmap: Giá Trị Đặc Trưng Tại Tâm Cụm"
        },
        "xaxis": {
         "title": {
          "text": "Đặc trưng"
         }
        },
        "yaxis": {
         "title": {
          "text": "Cụm"
         }
        }
       }
      }
     },
     "metadata": {},
     "output_type": "display_data"
    }
   ],
   "source": [
    "# Đọc centroids\n",
    "centroids_file = latest_snapshot / 'final_centroids.txt'\n",
    "centroids = np.loadtxt(centroids_file, delimiter=',')\n",
    "\n",
    "print(f\"✅ Đã tải {len(centroids)} tâm cụm, mỗi tâm có {centroids.shape[1]} đặc trưng\\n\")\n",
    "\n",
    "# Tạo DataFrame cho centroids\n",
    "centroids_df = pd.DataFrame(centroids, columns=FEATURE_NAMES)\n",
    "centroids_df.index.name = 'Cụm'\n",
    "\n",
    "print(\"📊 Giá trị các đặc trưng tại tâm cụm:\")\n",
    "print(centroids_df.to_string())\n",
    "\n",
    "# Heatmap centroids\n",
    "fig = go.Figure(data=go.Heatmap(\n",
    "    z=centroids_df.values,\n",
    "    x=FEATURE_NAMES,\n",
    "    y=[f'Cụm {i}' for i in range(len(centroids))],\n",
    "    colorscale='RdBu',\n",
    "    zmid=0,\n",
    "    text=np.round(centroids_df.values, 3),\n",
    "    texttemplate='%{text}',\n",
    "    textfont={\"size\": 10}\n",
    "))\n",
    "\n",
    "fig.update_layout(\n",
    "    title='Heatmap: Giá Trị Đặc Trưng Tại Tâm Cụm',\n",
    "    xaxis_title='Đặc trưng',\n",
    "    yaxis_title='Cụm',\n",
    "    height=500\n",
    ")\n",
    "fig.show()"
   ]
  },
  {
   "cell_type": "markdown",
   "metadata": {},
   "source": [
    "<a id=\"7\"></a>\n",
    "## 7. 📊 So Sánh Đặc Trưng Giữa Các Cụm"
   ]
  },
  {
   "cell_type": "code",
   "execution_count": 7,
   "metadata": {},
   "outputs": [
    {
     "data": {
      "application/vnd.plotly.v1+json": {
       "config": {
        "plotlyServerURL": "https://plot.ly"
       },
       "data": [
        {
         "marker": {
          "color": "lightgreen"
         },
         "name": "Received",
         "type": "bar",
         "x": {
          "bdata": "AAECAwQ=",
          "dtype": "i1"
         },
         "xaxis": "x",
         "y": {
          "bdata": "/0qXv6VxYEFOI8aJfmxRQVCjc5VAPVBBdVJ1gjbXjkL8nhxKlCCJQA==",
          "dtype": "f8"
         },
         "yaxis": "y"
        },
        {
         "marker": {
          "color": "lightcoral"
         },
         "name": "Paid",
         "type": "bar",
         "x": {
          "bdata": "AAECAwQ=",
          "dtype": "i1"
         },
         "xaxis": "x2",
         "y": {
          "bdata": "DZkdcNd1YEGnNIXx/Q5DQYjaQmvvvUJB1hq9W7HJhEL8nhxKlCCJQA==",
          "dtype": "f8"
         },
         "yaxis": "y2"
        },
        {
         "marker": {
          "color": "lightskyblue"
         },
         "name": "Ratio",
         "type": "bar",
         "x": {
          "bdata": "AAECAwQ=",
          "dtype": "i1"
         },
         "xaxis": "x3",
         "y": {
          "bdata": "319CB6ww8D+ldxQUSxkKQETux7t2YPI/ZzHrI1GJNUAAAAAAAADwPw==",
          "dtype": "f8"
         },
         "yaxis": "y3"
        },
        {
         "marker": {
          "color": {
           "bdata": "AAECAwQ=",
           "dtype": "i1"
          },
          "colorscale": [
           [
            0,
            "#440154"
           ],
           [
            0.1111111111111111,
            "#482878"
           ],
           [
            0.2222222222222222,
            "#3e4989"
           ],
           [
            0.3333333333333333,
            "#31688e"
           ],
           [
            0.4444444444444444,
            "#26828e"
           ],
           [
            0.5555555555555556,
            "#1f9e89"
           ],
           [
            0.6666666666666666,
            "#35b779"
           ],
           [
            0.7777777777777778,
            "#6ece58"
           ],
           [
            0.8888888888888888,
            "#b5de2b"
           ],
           [
            1,
            "#fde725"
           ]
          ],
          "size": 15
         },
         "mode": "markers+text",
         "name": "Cụm",
         "text": [
          "C0",
          "C1",
          "C2",
          "C3",
          "C4"
         ],
         "textposition": "top center",
         "type": "scatter",
         "x": {
          "bdata": "/0qXv6VxYEFOI8aJfmxRQVCjc5VAPVBBdVJ1gjbXjkL8nhxKlCCJQA==",
          "dtype": "f8"
         },
         "xaxis": "x4",
         "y": {
          "bdata": "DZkdcNd1YEGnNIXx/Q5DQYjaQmvvvUJB1hq9W7HJhEL8nhxKlCCJQA==",
          "dtype": "f8"
         },
         "yaxis": "y4"
        }
       ],
       "layout": {
        "annotations": [
         {
          "font": {
           "size": 16
          },
          "showarrow": false,
          "text": "Amount Received (TB)",
          "x": 0.225,
          "xanchor": "center",
          "xref": "paper",
          "y": 1,
          "yanchor": "bottom",
          "yref": "paper"
         },
         {
          "font": {
           "size": 16
          },
          "showarrow": false,
          "text": "Amount Paid (TB)",
          "x": 0.775,
          "xanchor": "center",
          "xref": "paper",
          "y": 1,
          "yanchor": "bottom",
          "yref": "paper"
         },
         {
          "font": {
           "size": 16
          },
          "showarrow": false,
          "text": "Amount Ratio (TB)",
          "x": 0.225,
          "xanchor": "center",
          "xref": "paper",
          "y": 0.375,
          "yanchor": "bottom",
          "yref": "paper"
         },
         {
          "font": {
           "size": 16
          },
          "showarrow": false,
          "text": "So Sánh Received vs Paid",
          "x": 0.775,
          "xanchor": "center",
          "xref": "paper",
          "y": 0.375,
          "yanchor": "bottom",
          "yref": "paper"
         }
        ],
        "height": 800,
        "showlegend": false,
        "template": {
         "data": {
          "bar": [
           {
            "error_x": {
             "color": "#2a3f5f"
            },
            "error_y": {
             "color": "#2a3f5f"
            },
            "marker": {
             "line": {
              "color": "#E5ECF6",
              "width": 0.5
             },
             "pattern": {
              "fillmode": "overlay",
              "size": 10,
              "solidity": 0.2
             }
            },
            "type": "bar"
           }
          ],
          "barpolar": [
           {
            "marker": {
             "line": {
              "color": "#E5ECF6",
              "width": 0.5
             },
             "pattern": {
              "fillmode": "overlay",
              "size": 10,
              "solidity": 0.2
             }
            },
            "type": "barpolar"
           }
          ],
          "carpet": [
           {
            "aaxis": {
             "endlinecolor": "#2a3f5f",
             "gridcolor": "white",
             "linecolor": "white",
             "minorgridcolor": "white",
             "startlinecolor": "#2a3f5f"
            },
            "baxis": {
             "endlinecolor": "#2a3f5f",
             "gridcolor": "white",
             "linecolor": "white",
             "minorgridcolor": "white",
             "startlinecolor": "#2a3f5f"
            },
            "type": "carpet"
           }
          ],
          "choropleth": [
           {
            "colorbar": {
             "outlinewidth": 0,
             "ticks": ""
            },
            "type": "choropleth"
           }
          ],
          "contour": [
           {
            "colorbar": {
             "outlinewidth": 0,
             "ticks": ""
            },
            "colorscale": [
             [
              0,
              "#0d0887"
             ],
             [
              0.1111111111111111,
              "#46039f"
             ],
             [
              0.2222222222222222,
              "#7201a8"
             ],
             [
              0.3333333333333333,
              "#9c179e"
             ],
             [
              0.4444444444444444,
              "#bd3786"
             ],
             [
              0.5555555555555556,
              "#d8576b"
             ],
             [
              0.6666666666666666,
              "#ed7953"
             ],
             [
              0.7777777777777778,
              "#fb9f3a"
             ],
             [
              0.8888888888888888,
              "#fdca26"
             ],
             [
              1,
              "#f0f921"
             ]
            ],
            "type": "contour"
           }
          ],
          "contourcarpet": [
           {
            "colorbar": {
             "outlinewidth": 0,
             "ticks": ""
            },
            "type": "contourcarpet"
           }
          ],
          "heatmap": [
           {
            "colorbar": {
             "outlinewidth": 0,
             "ticks": ""
            },
            "colorscale": [
             [
              0,
              "#0d0887"
             ],
             [
              0.1111111111111111,
              "#46039f"
             ],
             [
              0.2222222222222222,
              "#7201a8"
             ],
             [
              0.3333333333333333,
              "#9c179e"
             ],
             [
              0.4444444444444444,
              "#bd3786"
             ],
             [
              0.5555555555555556,
              "#d8576b"
             ],
             [
              0.6666666666666666,
              "#ed7953"
             ],
             [
              0.7777777777777778,
              "#fb9f3a"
             ],
             [
              0.8888888888888888,
              "#fdca26"
             ],
             [
              1,
              "#f0f921"
             ]
            ],
            "type": "heatmap"
           }
          ],
          "histogram": [
           {
            "marker": {
             "pattern": {
              "fillmode": "overlay",
              "size": 10,
              "solidity": 0.2
             }
            },
            "type": "histogram"
           }
          ],
          "histogram2d": [
           {
            "colorbar": {
             "outlinewidth": 0,
             "ticks": ""
            },
            "colorscale": [
             [
              0,
              "#0d0887"
             ],
             [
              0.1111111111111111,
              "#46039f"
             ],
             [
              0.2222222222222222,
              "#7201a8"
             ],
             [
              0.3333333333333333,
              "#9c179e"
             ],
             [
              0.4444444444444444,
              "#bd3786"
             ],
             [
              0.5555555555555556,
              "#d8576b"
             ],
             [
              0.6666666666666666,
              "#ed7953"
             ],
             [
              0.7777777777777778,
              "#fb9f3a"
             ],
             [
              0.8888888888888888,
              "#fdca26"
             ],
             [
              1,
              "#f0f921"
             ]
            ],
            "type": "histogram2d"
           }
          ],
          "histogram2dcontour": [
           {
            "colorbar": {
             "outlinewidth": 0,
             "ticks": ""
            },
            "colorscale": [
             [
              0,
              "#0d0887"
             ],
             [
              0.1111111111111111,
              "#46039f"
             ],
             [
              0.2222222222222222,
              "#7201a8"
             ],
             [
              0.3333333333333333,
              "#9c179e"
             ],
             [
              0.4444444444444444,
              "#bd3786"
             ],
             [
              0.5555555555555556,
              "#d8576b"
             ],
             [
              0.6666666666666666,
              "#ed7953"
             ],
             [
              0.7777777777777778,
              "#fb9f3a"
             ],
             [
              0.8888888888888888,
              "#fdca26"
             ],
             [
              1,
              "#f0f921"
             ]
            ],
            "type": "histogram2dcontour"
           }
          ],
          "mesh3d": [
           {
            "colorbar": {
             "outlinewidth": 0,
             "ticks": ""
            },
            "type": "mesh3d"
           }
          ],
          "parcoords": [
           {
            "line": {
             "colorbar": {
              "outlinewidth": 0,
              "ticks": ""
             }
            },
            "type": "parcoords"
           }
          ],
          "pie": [
           {
            "automargin": true,
            "type": "pie"
           }
          ],
          "scatter": [
           {
            "fillpattern": {
             "fillmode": "overlay",
             "size": 10,
             "solidity": 0.2
            },
            "type": "scatter"
           }
          ],
          "scatter3d": [
           {
            "line": {
             "colorbar": {
              "outlinewidth": 0,
              "ticks": ""
             }
            },
            "marker": {
             "colorbar": {
              "outlinewidth": 0,
              "ticks": ""
             }
            },
            "type": "scatter3d"
           }
          ],
          "scattercarpet": [
           {
            "marker": {
             "colorbar": {
              "outlinewidth": 0,
              "ticks": ""
             }
            },
            "type": "scattercarpet"
           }
          ],
          "scattergeo": [
           {
            "marker": {
             "colorbar": {
              "outlinewidth": 0,
              "ticks": ""
             }
            },
            "type": "scattergeo"
           }
          ],
          "scattergl": [
           {
            "marker": {
             "colorbar": {
              "outlinewidth": 0,
              "ticks": ""
             }
            },
            "type": "scattergl"
           }
          ],
          "scattermap": [
           {
            "marker": {
             "colorbar": {
              "outlinewidth": 0,
              "ticks": ""
             }
            },
            "type": "scattermap"
           }
          ],
          "scattermapbox": [
           {
            "marker": {
             "colorbar": {
              "outlinewidth": 0,
              "ticks": ""
             }
            },
            "type": "scattermapbox"
           }
          ],
          "scatterpolar": [
           {
            "marker": {
             "colorbar": {
              "outlinewidth": 0,
              "ticks": ""
             }
            },
            "type": "scatterpolar"
           }
          ],
          "scatterpolargl": [
           {
            "marker": {
             "colorbar": {
              "outlinewidth": 0,
              "ticks": ""
             }
            },
            "type": "scatterpolargl"
           }
          ],
          "scatterternary": [
           {
            "marker": {
             "colorbar": {
              "outlinewidth": 0,
              "ticks": ""
             }
            },
            "type": "scatterternary"
           }
          ],
          "surface": [
           {
            "colorbar": {
             "outlinewidth": 0,
             "ticks": ""
            },
            "colorscale": [
             [
              0,
              "#0d0887"
             ],
             [
              0.1111111111111111,
              "#46039f"
             ],
             [
              0.2222222222222222,
              "#7201a8"
             ],
             [
              0.3333333333333333,
              "#9c179e"
             ],
             [
              0.4444444444444444,
              "#bd3786"
             ],
             [
              0.5555555555555556,
              "#d8576b"
             ],
             [
              0.6666666666666666,
              "#ed7953"
             ],
             [
              0.7777777777777778,
              "#fb9f3a"
             ],
             [
              0.8888888888888888,
              "#fdca26"
             ],
             [
              1,
              "#f0f921"
             ]
            ],
            "type": "surface"
           }
          ],
          "table": [
           {
            "cells": {
             "fill": {
              "color": "#EBF0F8"
             },
             "line": {
              "color": "white"
             }
            },
            "header": {
             "fill": {
              "color": "#C8D4E3"
             },
             "line": {
              "color": "white"
             }
            },
            "type": "table"
           }
          ]
         },
         "layout": {
          "annotationdefaults": {
           "arrowcolor": "#2a3f5f",
           "arrowhead": 0,
           "arrowwidth": 1
          },
          "autotypenumbers": "strict",
          "coloraxis": {
           "colorbar": {
            "outlinewidth": 0,
            "ticks": ""
           }
          },
          "colorscale": {
           "diverging": [
            [
             0,
             "#8e0152"
            ],
            [
             0.1,
             "#c51b7d"
            ],
            [
             0.2,
             "#de77ae"
            ],
            [
             0.3,
             "#f1b6da"
            ],
            [
             0.4,
             "#fde0ef"
            ],
            [
             0.5,
             "#f7f7f7"
            ],
            [
             0.6,
             "#e6f5d0"
            ],
            [
             0.7,
             "#b8e186"
            ],
            [
             0.8,
             "#7fbc41"
            ],
            [
             0.9,
             "#4d9221"
            ],
            [
             1,
             "#276419"
            ]
           ],
           "sequential": [
            [
             0,
             "#0d0887"
            ],
            [
             0.1111111111111111,
             "#46039f"
            ],
            [
             0.2222222222222222,
             "#7201a8"
            ],
            [
             0.3333333333333333,
             "#9c179e"
            ],
            [
             0.4444444444444444,
             "#bd3786"
            ],
            [
             0.5555555555555556,
             "#d8576b"
            ],
            [
             0.6666666666666666,
             "#ed7953"
            ],
            [
             0.7777777777777778,
             "#fb9f3a"
            ],
            [
             0.8888888888888888,
             "#fdca26"
            ],
            [
             1,
             "#f0f921"
            ]
           ],
           "sequentialminus": [
            [
             0,
             "#0d0887"
            ],
            [
             0.1111111111111111,
             "#46039f"
            ],
            [
             0.2222222222222222,
             "#7201a8"
            ],
            [
             0.3333333333333333,
             "#9c179e"
            ],
            [
             0.4444444444444444,
             "#bd3786"
            ],
            [
             0.5555555555555556,
             "#d8576b"
            ],
            [
             0.6666666666666666,
             "#ed7953"
            ],
            [
             0.7777777777777778,
             "#fb9f3a"
            ],
            [
             0.8888888888888888,
             "#fdca26"
            ],
            [
             1,
             "#f0f921"
            ]
           ]
          },
          "colorway": [
           "#636efa",
           "#EF553B",
           "#00cc96",
           "#ab63fa",
           "#FFA15A",
           "#19d3f3",
           "#FF6692",
           "#B6E880",
           "#FF97FF",
           "#FECB52"
          ],
          "font": {
           "color": "#2a3f5f"
          },
          "geo": {
           "bgcolor": "white",
           "lakecolor": "white",
           "landcolor": "#E5ECF6",
           "showlakes": true,
           "showland": true,
           "subunitcolor": "white"
          },
          "hoverlabel": {
           "align": "left"
          },
          "hovermode": "closest",
          "mapbox": {
           "style": "light"
          },
          "paper_bgcolor": "white",
          "plot_bgcolor": "#E5ECF6",
          "polar": {
           "angularaxis": {
            "gridcolor": "white",
            "linecolor": "white",
            "ticks": ""
           },
           "bgcolor": "#E5ECF6",
           "radialaxis": {
            "gridcolor": "white",
            "linecolor": "white",
            "ticks": ""
           }
          },
          "scene": {
           "xaxis": {
            "backgroundcolor": "#E5ECF6",
            "gridcolor": "white",
            "gridwidth": 2,
            "linecolor": "white",
            "showbackground": true,
            "ticks": "",
            "zerolinecolor": "white"
           },
           "yaxis": {
            "backgroundcolor": "#E5ECF6",
            "gridcolor": "white",
            "gridwidth": 2,
            "linecolor": "white",
            "showbackground": true,
            "ticks": "",
            "zerolinecolor": "white"
           },
           "zaxis": {
            "backgroundcolor": "#E5ECF6",
            "gridcolor": "white",
            "gridwidth": 2,
            "linecolor": "white",
            "showbackground": true,
            "ticks": "",
            "zerolinecolor": "white"
           }
          },
          "shapedefaults": {
           "line": {
            "color": "#2a3f5f"
           }
          },
          "ternary": {
           "aaxis": {
            "gridcolor": "white",
            "linecolor": "white",
            "ticks": ""
           },
           "baxis": {
            "gridcolor": "white",
            "linecolor": "white",
            "ticks": ""
           },
           "bgcolor": "#E5ECF6",
           "caxis": {
            "gridcolor": "white",
            "linecolor": "white",
            "ticks": ""
           }
          },
          "title": {
           "x": 0.05
          },
          "xaxis": {
           "automargin": true,
           "gridcolor": "white",
           "linecolor": "white",
           "ticks": "",
           "title": {
            "standoff": 15
           },
           "zerolinecolor": "white",
           "zerolinewidth": 2
          },
          "yaxis": {
           "automargin": true,
           "gridcolor": "white",
           "linecolor": "white",
           "ticks": "",
           "title": {
            "standoff": 15
           },
           "zerolinecolor": "white",
           "zerolinewidth": 2
          }
         }
        },
        "title": {
         "text": "Phân Tích Đặc Trưng Các Cụm"
        },
        "xaxis": {
         "anchor": "y",
         "domain": [
          0,
          0.45
         ]
        },
        "xaxis2": {
         "anchor": "y2",
         "domain": [
          0.55,
          1
         ]
        },
        "xaxis3": {
         "anchor": "y3",
         "domain": [
          0,
          0.45
         ]
        },
        "xaxis4": {
         "anchor": "y4",
         "domain": [
          0.55,
          1
         ]
        },
        "yaxis": {
         "anchor": "x",
         "domain": [
          0.625,
          1
         ]
        },
        "yaxis2": {
         "anchor": "x2",
         "domain": [
          0.625,
          1
         ]
        },
        "yaxis3": {
         "anchor": "x3",
         "domain": [
          0,
          0.375
         ]
        },
        "yaxis4": {
         "anchor": "x4",
         "domain": [
          0,
          0.375
         ]
        }
       }
      }
     },
     "metadata": {},
     "output_type": "display_data"
    }
   ],
   "source": [
    "# So sánh amount_received và amount_paid\n",
    "fig = make_subplots(\n",
    "    rows=2, cols=2,\n",
    "    subplot_titles=(\n",
    "        'Amount Received (TB)',\n",
    "        'Amount Paid (TB)',\n",
    "        'Amount Ratio (TB)',\n",
    "        'So Sánh Received vs Paid'\n",
    "    ),\n",
    "    specs=[[{\"type\": \"bar\"}, {\"type\": \"bar\"}],\n",
    "           [{\"type\": \"bar\"}, {\"type\": \"scatter\"}]]\n",
    ")\n",
    "\n",
    "cluster_feat_pd = cluster_features.to_pandas()\n",
    "\n",
    "# Amount Received\n",
    "fig.add_trace(\n",
    "    go.Bar(x=cluster_feat_pd['cluster'], y=cluster_feat_pd['avg_amount_received'],\n",
    "           name='Received', marker_color='lightgreen'),\n",
    "    row=1, col=1\n",
    ")\n",
    "\n",
    "# Amount Paid\n",
    "fig.add_trace(\n",
    "    go.Bar(x=cluster_feat_pd['cluster'], y=cluster_feat_pd['avg_amount_paid'],\n",
    "           name='Paid', marker_color='lightcoral'),\n",
    "    row=1, col=2\n",
    ")\n",
    "\n",
    "# Ratio\n",
    "fig.add_trace(\n",
    "    go.Bar(x=cluster_feat_pd['cluster'], y=cluster_feat_pd['avg_ratio'],\n",
    "           name='Ratio', marker_color='lightskyblue'),\n",
    "    row=2, col=1\n",
    ")\n",
    "\n",
    "# Scatter: Received vs Paid\n",
    "fig.add_trace(\n",
    "    go.Scatter(\n",
    "        x=cluster_feat_pd['avg_amount_received'],\n",
    "        y=cluster_feat_pd['avg_amount_paid'],\n",
    "        mode='markers+text',\n",
    "        text=[f'C{i}' for i in cluster_feat_pd['cluster']],\n",
    "        textposition='top center',\n",
    "        marker=dict(size=15, color=cluster_feat_pd['cluster'], colorscale='Viridis'),\n",
    "        name='Cụm'\n",
    "    ),\n",
    "    row=2, col=2\n",
    ")\n",
    "\n",
    "fig.update_layout(height=800, showlegend=False, title_text=\"Phân Tích Đặc Trưng Các Cụm\")\n",
    "fig.show()"
   ]
  },
  {
   "cell_type": "markdown",
   "metadata": {},
   "source": [
    "<a id=\"8\"></a>\n",
    "## 8. 🔗 Phân Tích Mối Tương Quan"
   ]
  },
  {
   "cell_type": "code",
   "execution_count": 8,
   "metadata": {},
   "outputs": [
    {
     "data": {
      "application/vnd.plotly.v1+json": {
       "config": {
        "plotlyServerURL": "https://plot.ly"
       },
       "data": [
        {
         "colorscale": [
          [
           0,
           "rgb(103,0,31)"
          ],
          [
           0.1,
           "rgb(178,24,43)"
          ],
          [
           0.2,
           "rgb(214,96,77)"
          ],
          [
           0.3,
           "rgb(244,165,130)"
          ],
          [
           0.4,
           "rgb(253,219,199)"
          ],
          [
           0.5,
           "rgb(247,247,247)"
          ],
          [
           0.6,
           "rgb(209,229,240)"
          ],
          [
           0.7,
           "rgb(146,197,222)"
          ],
          [
           0.8,
           "rgb(67,147,195)"
          ],
          [
           0.9,
           "rgb(33,102,172)"
          ],
          [
           1,
           "rgb(5,48,97)"
          ]
         ],
         "text": {
          "bdata": "AAAAAAAA8D8AAAAAAADwP65H4XoUru8/CtejcD0K178K16NwPQrvPylcj8L1KOy/mpmZmZmZyT+amZmZmZmpP3sUrkfhetQ/AAAAAAAA8D8AAAAAAADwP65H4XoUru8/CtejcD0K178K16NwPQrvPylcj8L1KOy/mpmZmZmZyT+amZmZmZmpP3sUrkfhetQ/rkfhehSu7z+uR+F6FK7vPwAAAAAAAPA/KVyPwvUo3L+uR+F6FK7vP3sUrkfheuy/exSuR+F6xD8AAAAAAAAAAArXo3A9Ctc/CtejcD0K178K16NwPQrXvylcj8L1KNy/AAAAAAAA8D+amZmZmZnhvylcj8L1KOQ/exSuR+F6tL97FK5H4XqUvylcj8L1KLy/CtejcD0K7z8K16NwPQrvP65H4XoUru8/mpmZmZmZ4b8AAAAAAADwPylcj8L1KOy/4XoUrkfhyj+4HoXrUbiuP4XrUbgehds/KVyPwvUo7L8pXI/C9Sjsv3sUrkfheuy/KVyPwvUo5D8pXI/C9SjsvwAAAAAAAPA/mpmZmZmZub+4HoXrUbieP7gehetRuJ4/mpmZmZmZyT+amZmZmZnJP3sUrkfhesQ/exSuR+F6tL/hehSuR+HKP5qZmZmZmbm/AAAAAAAA8D+uR+F6FK7vP7gehetRuM4/mpmZmZmZqT+amZmZmZmpPwAAAAAAAAAAexSuR+F6lL+4HoXrUbiuP7gehetRuJ4/rkfhehSu7z8AAAAAAADwP1K4HoXrUcg/exSuR+F61D97FK5H4XrUPwrXo3A9Ctc/KVyPwvUovL+F61G4HoXbP7gehetRuJ4/uB6F61G4zj9SuB6F61HIPwAAAAAAAPA/",
          "dtype": "f8",
          "shape": "9, 9"
         },
         "textfont": {
          "size": 10
         },
         "texttemplate": "%{text}",
         "type": "heatmap",
         "x": [
          "amount_received",
          "amount_paid",
          "amount_ratio",
          "hour",
          "day_of_week",
          "route_hash",
          "recv_curr_encoded",
          "payment_curr_encoded",
          "payment_format_encoded"
         ],
         "y": [
          "amount_received",
          "amount_paid",
          "amount_ratio",
          "hour",
          "day_of_week",
          "route_hash",
          "recv_curr_encoded",
          "payment_curr_encoded",
          "payment_format_encoded"
         ],
         "z": {
          "bdata": "AAAAAAAA8D976//////vP+koty8z0e8/h8ymiKkn179wvykdjQDvP233FzEAI+y/CBHYwUPHyT+LgEh5E5+oP1l4zC7XstQ/e+v/////7z8AAAAAAADwP8J2HhMz0e8/1Uw7Xqkn17/yfI4ejQDvPwcQqvr/Iuy/9eVKn0zHyT+6VTeiN5+oP+XXyv/XstQ/6Si3LzPR7z/Cdh4TM9HvPwAAAAAAAPA/FYEj05n427+rUtOcXJLvP4NtZBd4fey/7UR8wRrfwz/BvZq5SKNcP4sXgVbP5NY/h8ymiKkn17/VTDteqSfXvxWBI9OZ+Nu/AAAAAAAA8D/QrfkP5pLhv6n4HxAcUeQ/VMJDNPe8s7+fibEuqeaVv3d/4TzlL7u/cL8pHY0A7z/yfI4ejQDvP6tS05xcku8/0K35D+aS4b8AAAAAAADwP+Ia6J5IPuy/Qj/xP7Fgyj9UAQlWVlatP8Ey5KzIgds/bfcXMQAj7L8HEKr6/yLsv4NtZBd4fey/qfgfEBxR5D/iGuieSD7svwAAAAAAAPA/00KNZ5ziub+D1oj/8o6hP12z8/j/5aE/CBHYwUPHyT/15UqfTMfJP+1EfMEa38M/VMJDNPe8s79CP/E/sWDKP9NCjWec4rm/AAAAAAAA8D+jqdbxKZ7vP+aH+Q+3W84/i4BIeROfqD+6VTeiN5+oP8G9mrlIo1w/n4mxLqnmlb9UAQlWVlatP4PWiP/yjqE/o6nW8Sme7z8AAAAAAADwP08Ku6qUE8g/WXjMLtey1D/l18r/17LUP4sXgVbP5NY/d3/hPOUvu7/BMuSsyIHbP12z8/j/5aE/5of5D7dbzj9PCruqlBPIPwAAAAAAAPA/",
          "dtype": "f8",
          "shape": "9, 9"
         },
         "zmid": 0
        }
       ],
       "layout": {
        "height": 600,
        "template": {
         "data": {
          "bar": [
           {
            "error_x": {
             "color": "#2a3f5f"
            },
            "error_y": {
             "color": "#2a3f5f"
            },
            "marker": {
             "line": {
              "color": "#E5ECF6",
              "width": 0.5
             },
             "pattern": {
              "fillmode": "overlay",
              "size": 10,
              "solidity": 0.2
             }
            },
            "type": "bar"
           }
          ],
          "barpolar": [
           {
            "marker": {
             "line": {
              "color": "#E5ECF6",
              "width": 0.5
             },
             "pattern": {
              "fillmode": "overlay",
              "size": 10,
              "solidity": 0.2
             }
            },
            "type": "barpolar"
           }
          ],
          "carpet": [
           {
            "aaxis": {
             "endlinecolor": "#2a3f5f",
             "gridcolor": "white",
             "linecolor": "white",
             "minorgridcolor": "white",
             "startlinecolor": "#2a3f5f"
            },
            "baxis": {
             "endlinecolor": "#2a3f5f",
             "gridcolor": "white",
             "linecolor": "white",
             "minorgridcolor": "white",
             "startlinecolor": "#2a3f5f"
            },
            "type": "carpet"
           }
          ],
          "choropleth": [
           {
            "colorbar": {
             "outlinewidth": 0,
             "ticks": ""
            },
            "type": "choropleth"
           }
          ],
          "contour": [
           {
            "colorbar": {
             "outlinewidth": 0,
             "ticks": ""
            },
            "colorscale": [
             [
              0,
              "#0d0887"
             ],
             [
              0.1111111111111111,
              "#46039f"
             ],
             [
              0.2222222222222222,
              "#7201a8"
             ],
             [
              0.3333333333333333,
              "#9c179e"
             ],
             [
              0.4444444444444444,
              "#bd3786"
             ],
             [
              0.5555555555555556,
              "#d8576b"
             ],
             [
              0.6666666666666666,
              "#ed7953"
             ],
             [
              0.7777777777777778,
              "#fb9f3a"
             ],
             [
              0.8888888888888888,
              "#fdca26"
             ],
             [
              1,
              "#f0f921"
             ]
            ],
            "type": "contour"
           }
          ],
          "contourcarpet": [
           {
            "colorbar": {
             "outlinewidth": 0,
             "ticks": ""
            },
            "type": "contourcarpet"
           }
          ],
          "heatmap": [
           {
            "colorbar": {
             "outlinewidth": 0,
             "ticks": ""
            },
            "colorscale": [
             [
              0,
              "#0d0887"
             ],
             [
              0.1111111111111111,
              "#46039f"
             ],
             [
              0.2222222222222222,
              "#7201a8"
             ],
             [
              0.3333333333333333,
              "#9c179e"
             ],
             [
              0.4444444444444444,
              "#bd3786"
             ],
             [
              0.5555555555555556,
              "#d8576b"
             ],
             [
              0.6666666666666666,
              "#ed7953"
             ],
             [
              0.7777777777777778,
              "#fb9f3a"
             ],
             [
              0.8888888888888888,
              "#fdca26"
             ],
             [
              1,
              "#f0f921"
             ]
            ],
            "type": "heatmap"
           }
          ],
          "histogram": [
           {
            "marker": {
             "pattern": {
              "fillmode": "overlay",
              "size": 10,
              "solidity": 0.2
             }
            },
            "type": "histogram"
           }
          ],
          "histogram2d": [
           {
            "colorbar": {
             "outlinewidth": 0,
             "ticks": ""
            },
            "colorscale": [
             [
              0,
              "#0d0887"
             ],
             [
              0.1111111111111111,
              "#46039f"
             ],
             [
              0.2222222222222222,
              "#7201a8"
             ],
             [
              0.3333333333333333,
              "#9c179e"
             ],
             [
              0.4444444444444444,
              "#bd3786"
             ],
             [
              0.5555555555555556,
              "#d8576b"
             ],
             [
              0.6666666666666666,
              "#ed7953"
             ],
             [
              0.7777777777777778,
              "#fb9f3a"
             ],
             [
              0.8888888888888888,
              "#fdca26"
             ],
             [
              1,
              "#f0f921"
             ]
            ],
            "type": "histogram2d"
           }
          ],
          "histogram2dcontour": [
           {
            "colorbar": {
             "outlinewidth": 0,
             "ticks": ""
            },
            "colorscale": [
             [
              0,
              "#0d0887"
             ],
             [
              0.1111111111111111,
              "#46039f"
             ],
             [
              0.2222222222222222,
              "#7201a8"
             ],
             [
              0.3333333333333333,
              "#9c179e"
             ],
             [
              0.4444444444444444,
              "#bd3786"
             ],
             [
              0.5555555555555556,
              "#d8576b"
             ],
             [
              0.6666666666666666,
              "#ed7953"
             ],
             [
              0.7777777777777778,
              "#fb9f3a"
             ],
             [
              0.8888888888888888,
              "#fdca26"
             ],
             [
              1,
              "#f0f921"
             ]
            ],
            "type": "histogram2dcontour"
           }
          ],
          "mesh3d": [
           {
            "colorbar": {
             "outlinewidth": 0,
             "ticks": ""
            },
            "type": "mesh3d"
           }
          ],
          "parcoords": [
           {
            "line": {
             "colorbar": {
              "outlinewidth": 0,
              "ticks": ""
             }
            },
            "type": "parcoords"
           }
          ],
          "pie": [
           {
            "automargin": true,
            "type": "pie"
           }
          ],
          "scatter": [
           {
            "fillpattern": {
             "fillmode": "overlay",
             "size": 10,
             "solidity": 0.2
            },
            "type": "scatter"
           }
          ],
          "scatter3d": [
           {
            "line": {
             "colorbar": {
              "outlinewidth": 0,
              "ticks": ""
             }
            },
            "marker": {
             "colorbar": {
              "outlinewidth": 0,
              "ticks": ""
             }
            },
            "type": "scatter3d"
           }
          ],
          "scattercarpet": [
           {
            "marker": {
             "colorbar": {
              "outlinewidth": 0,
              "ticks": ""
             }
            },
            "type": "scattercarpet"
           }
          ],
          "scattergeo": [
           {
            "marker": {
             "colorbar": {
              "outlinewidth": 0,
              "ticks": ""
             }
            },
            "type": "scattergeo"
           }
          ],
          "scattergl": [
           {
            "marker": {
             "colorbar": {
              "outlinewidth": 0,
              "ticks": ""
             }
            },
            "type": "scattergl"
           }
          ],
          "scattermap": [
           {
            "marker": {
             "colorbar": {
              "outlinewidth": 0,
              "ticks": ""
             }
            },
            "type": "scattermap"
           }
          ],
          "scattermapbox": [
           {
            "marker": {
             "colorbar": {
              "outlinewidth": 0,
              "ticks": ""
             }
            },
            "type": "scattermapbox"
           }
          ],
          "scatterpolar": [
           {
            "marker": {
             "colorbar": {
              "outlinewidth": 0,
              "ticks": ""
             }
            },
            "type": "scatterpolar"
           }
          ],
          "scatterpolargl": [
           {
            "marker": {
             "colorbar": {
              "outlinewidth": 0,
              "ticks": ""
             }
            },
            "type": "scatterpolargl"
           }
          ],
          "scatterternary": [
           {
            "marker": {
             "colorbar": {
              "outlinewidth": 0,
              "ticks": ""
             }
            },
            "type": "scatterternary"
           }
          ],
          "surface": [
           {
            "colorbar": {
             "outlinewidth": 0,
             "ticks": ""
            },
            "colorscale": [
             [
              0,
              "#0d0887"
             ],
             [
              0.1111111111111111,
              "#46039f"
             ],
             [
              0.2222222222222222,
              "#7201a8"
             ],
             [
              0.3333333333333333,
              "#9c179e"
             ],
             [
              0.4444444444444444,
              "#bd3786"
             ],
             [
              0.5555555555555556,
              "#d8576b"
             ],
             [
              0.6666666666666666,
              "#ed7953"
             ],
             [
              0.7777777777777778,
              "#fb9f3a"
             ],
             [
              0.8888888888888888,
              "#fdca26"
             ],
             [
              1,
              "#f0f921"
             ]
            ],
            "type": "surface"
           }
          ],
          "table": [
           {
            "cells": {
             "fill": {
              "color": "#EBF0F8"
             },
             "line": {
              "color": "white"
             }
            },
            "header": {
             "fill": {
              "color": "#C8D4E3"
             },
             "line": {
              "color": "white"
             }
            },
            "type": "table"
           }
          ]
         },
         "layout": {
          "annotationdefaults": {
           "arrowcolor": "#2a3f5f",
           "arrowhead": 0,
           "arrowwidth": 1
          },
          "autotypenumbers": "strict",
          "coloraxis": {
           "colorbar": {
            "outlinewidth": 0,
            "ticks": ""
           }
          },
          "colorscale": {
           "diverging": [
            [
             0,
             "#8e0152"
            ],
            [
             0.1,
             "#c51b7d"
            ],
            [
             0.2,
             "#de77ae"
            ],
            [
             0.3,
             "#f1b6da"
            ],
            [
             0.4,
             "#fde0ef"
            ],
            [
             0.5,
             "#f7f7f7"
            ],
            [
             0.6,
             "#e6f5d0"
            ],
            [
             0.7,
             "#b8e186"
            ],
            [
             0.8,
             "#7fbc41"
            ],
            [
             0.9,
             "#4d9221"
            ],
            [
             1,
             "#276419"
            ]
           ],
           "sequential": [
            [
             0,
             "#0d0887"
            ],
            [
             0.1111111111111111,
             "#46039f"
            ],
            [
             0.2222222222222222,
             "#7201a8"
            ],
            [
             0.3333333333333333,
             "#9c179e"
            ],
            [
             0.4444444444444444,
             "#bd3786"
            ],
            [
             0.5555555555555556,
             "#d8576b"
            ],
            [
             0.6666666666666666,
             "#ed7953"
            ],
            [
             0.7777777777777778,
             "#fb9f3a"
            ],
            [
             0.8888888888888888,
             "#fdca26"
            ],
            [
             1,
             "#f0f921"
            ]
           ],
           "sequentialminus": [
            [
             0,
             "#0d0887"
            ],
            [
             0.1111111111111111,
             "#46039f"
            ],
            [
             0.2222222222222222,
             "#7201a8"
            ],
            [
             0.3333333333333333,
             "#9c179e"
            ],
            [
             0.4444444444444444,
             "#bd3786"
            ],
            [
             0.5555555555555556,
             "#d8576b"
            ],
            [
             0.6666666666666666,
             "#ed7953"
            ],
            [
             0.7777777777777778,
             "#fb9f3a"
            ],
            [
             0.8888888888888888,
             "#fdca26"
            ],
            [
             1,
             "#f0f921"
            ]
           ]
          },
          "colorway": [
           "#636efa",
           "#EF553B",
           "#00cc96",
           "#ab63fa",
           "#FFA15A",
           "#19d3f3",
           "#FF6692",
           "#B6E880",
           "#FF97FF",
           "#FECB52"
          ],
          "font": {
           "color": "#2a3f5f"
          },
          "geo": {
           "bgcolor": "white",
           "lakecolor": "white",
           "landcolor": "#E5ECF6",
           "showlakes": true,
           "showland": true,
           "subunitcolor": "white"
          },
          "hoverlabel": {
           "align": "left"
          },
          "hovermode": "closest",
          "mapbox": {
           "style": "light"
          },
          "paper_bgcolor": "white",
          "plot_bgcolor": "#E5ECF6",
          "polar": {
           "angularaxis": {
            "gridcolor": "white",
            "linecolor": "white",
            "ticks": ""
           },
           "bgcolor": "#E5ECF6",
           "radialaxis": {
            "gridcolor": "white",
            "linecolor": "white",
            "ticks": ""
           }
          },
          "scene": {
           "xaxis": {
            "backgroundcolor": "#E5ECF6",
            "gridcolor": "white",
            "gridwidth": 2,
            "linecolor": "white",
            "showbackground": true,
            "ticks": "",
            "zerolinecolor": "white"
           },
           "yaxis": {
            "backgroundcolor": "#E5ECF6",
            "gridcolor": "white",
            "gridwidth": 2,
            "linecolor": "white",
            "showbackground": true,
            "ticks": "",
            "zerolinecolor": "white"
           },
           "zaxis": {
            "backgroundcolor": "#E5ECF6",
            "gridcolor": "white",
            "gridwidth": 2,
            "linecolor": "white",
            "showbackground": true,
            "ticks": "",
            "zerolinecolor": "white"
           }
          },
          "shapedefaults": {
           "line": {
            "color": "#2a3f5f"
           }
          },
          "ternary": {
           "aaxis": {
            "gridcolor": "white",
            "linecolor": "white",
            "ticks": ""
           },
           "baxis": {
            "gridcolor": "white",
            "linecolor": "white",
            "ticks": ""
           },
           "bgcolor": "#E5ECF6",
           "caxis": {
            "gridcolor": "white",
            "linecolor": "white",
            "ticks": ""
           }
          },
          "title": {
           "x": 0.05
          },
          "xaxis": {
           "automargin": true,
           "gridcolor": "white",
           "linecolor": "white",
           "ticks": "",
           "title": {
            "standoff": 15
           },
           "zerolinecolor": "white",
           "zerolinewidth": 2
          },
          "yaxis": {
           "automargin": true,
           "gridcolor": "white",
           "linecolor": "white",
           "ticks": "",
           "title": {
            "standoff": 15
           },
           "zerolinecolor": "white",
           "zerolinewidth": 2
          }
         }
        },
        "title": {
         "text": "Ma Trận Tương Quan Giữa Các Đặc Trưng (tại Tâm Cụm)"
        }
       }
      }
     },
     "metadata": {},
     "output_type": "display_data"
    },
    {
     "name": "stdout",
     "output_type": "stream",
     "text": [
      "\n",
      "📊 Top 5 cặp đặc trưng tương quan cao nhất:\n",
      "        Feature 1            Feature 2  Correlation\n",
      "  amount_received          amount_paid         1.00\n",
      "  amount_received         amount_ratio         0.99\n",
      "      amount_paid         amount_ratio         0.99\n",
      "recv_curr_encoded payment_curr_encoded         0.99\n",
      "     amount_ratio          day_of_week         0.99\n"
     ]
    }
   ],
   "source": [
    "# Tính correlation matrix cho centroids\n",
    "corr_matrix = centroids_df.corr()\n",
    "\n",
    "fig = go.Figure(data=go.Heatmap(\n",
    "    z=corr_matrix.values,\n",
    "    x=FEATURE_NAMES,\n",
    "    y=FEATURE_NAMES,\n",
    "    colorscale='RdBu',\n",
    "    zmid=0,\n",
    "    text=np.round(corr_matrix.values, 2),\n",
    "    texttemplate='%{text}',\n",
    "    textfont={\"size\": 10}\n",
    "))\n",
    "\n",
    "fig.update_layout(\n",
    "    title='Ma Trận Tương Quan Giữa Các Đặc Trưng (tại Tâm Cụm)',\n",
    "    height=600\n",
    ")\n",
    "fig.show()\n",
    "\n",
    "print(\"\\n📊 Top 5 cặp đặc trưng tương quan cao nhất:\")\n",
    "corr_pairs = []\n",
    "for i in range(len(FEATURE_NAMES)):\n",
    "    for j in range(i+1, len(FEATURE_NAMES)):\n",
    "        corr_pairs.append({\n",
    "            'Feature 1': FEATURE_NAMES[i],\n",
    "            'Feature 2': FEATURE_NAMES[j],\n",
    "            'Correlation': corr_matrix.values[i, j]\n",
    "        })\n",
    "\n",
    "corr_df = pd.DataFrame(corr_pairs).sort_values('Correlation', ascending=False)\n",
    "print(corr_df.head(5).to_string(index=False))"
   ]
  },
  {
   "cell_type": "markdown",
   "metadata": {},
   "source": [
    "<a id=\"9\"></a>\n",
    "## 9. 💱 Phân Tích Loại Tiền Tệ"
   ]
  },
  {
   "cell_type": "code",
   "execution_count": 9,
   "metadata": {},
   "outputs": [
    {
     "name": "stdout",
     "output_type": "stream",
     "text": [
      "⏳ Đang phân tích phân phối loại tiền tệ theo cụm...\n",
      "\n",
      "📊 Top 5 loại tiền phổ biến nhất trong mỗi cụm:\n",
      "\n",
      "\n",
      "🔹 Cụm 0:\n",
      "  - Shekel: 7,942,689 (21.51%)\n",
      "  - Ruble: 5,484,540 (14.85%)\n",
      "  - Australian Dollar: 5,144,373 (13.93%)\n",
      "  - Swiss Franc: 4,829,029 (13.08%)\n",
      "  - Mexican Peso: 4,736,812 (12.83%)\n",
      "\n",
      "🔹 Cụm 1:\n",
      "  - US Dollar: 32,838,340 (46.95%)\n",
      "  - Euro: 20,828,332 (29.78%)\n",
      "  - Yuan: 6,503,888 (9.30%)\n",
      "  - Canadian Dollar: 3,095,692 (4.43%)\n",
      "  - UK Pound: 2,892,182 (4.14%)\n",
      "\n",
      "🔹 Cụm 2:\n",
      "  - US Dollar: 32,448,619 (47.07%)\n",
      "  - Euro: 20,458,940 (29.68%)\n",
      "  - Yuan: 6,414,944 (9.31%)\n",
      "  - Canadian Dollar: 3,043,278 (4.41%)\n",
      "  - UK Pound: 2,856,511 (4.14%)\n",
      "\n",
      "🔹 Cụm 3:\n",
      "  - Ruble: 8 (44.44%)\n",
      "  - Yen: 7 (38.89%)\n",
      "  - Rupee: 2 (11.11%)\n",
      "  - Euro: 1 (5.56%)\n",
      "\n",
      "🔹 Cụm 4:\n",
      "  - Bitcoin: 3,903,065 (99.95%)\n",
      "  - US Dollar: 825 (0.02%)\n",
      "  - Euro: 363 (0.01%)\n",
      "  - Canadian Dollar: 188 (0.00%)\n",
      "  - Shekel: 115 (0.00%)\n"
     ]
    }
   ],
   "source": [
    "print(\"⏳ Đang phân tích phân phối loại tiền tệ theo cụm...\\n\")\n",
    "\n",
    "# Phân tích top currencies theo cụm\n",
    "currency_analysis = df_lazy.group_by(['cluster', 'Receiving Currency']).agg([\n",
    "    pl.len().alias('count')\n",
    "]).sort(['cluster', 'count'], descending=[False, True]).collect()\n",
    "\n",
    "# Top 5 currencies cho mỗi cụm\n",
    "print(\"📊 Top 5 loại tiền phổ biến nhất trong mỗi cụm:\\n\")\n",
    "for cluster_id in sorted(cluster_distribution.keys()):\n",
    "    cluster_curr = currency_analysis.filter(pl.col('cluster') == cluster_id).head(5)\n",
    "    print(f\"\\n🔹 Cụm {cluster_id}:\")\n",
    "    for row in cluster_curr.iter_rows(named=True):\n",
    "        pct = (row['count'] / cluster_distribution[cluster_id]) * 100\n",
    "        print(f\"  - {row['Receiving Currency']}: {row['count']:,} ({pct:.2f}%)\")"
   ]
  },
  {
   "cell_type": "markdown",
   "metadata": {},
   "source": [
    "<a id=\"10\"></a>\n",
    "## 10. ⚠️ Tỷ Lệ Rủi Ro Chi Tiết"
   ]
  },
  {
   "cell_type": "code",
   "execution_count": 10,
   "metadata": {},
   "outputs": [
    {
     "data": {
      "application/vnd.plotly.v1+json": {
       "config": {
        "plotlyServerURL": "https://plot.ly"
       },
       "data": [
        {
         "marker": {
          "color": [
           "green",
           "green",
           "green",
           "orange",
           "green"
          ]
         },
         "name": "Tỷ lệ",
         "text": [
          "0.081%",
          "0.113%",
          "0.167%",
          "5.556%",
          "0.041%"
         ],
         "textposition": "outside",
         "type": "bar",
         "x": {
          "bdata": "AAECAwQ=",
          "dtype": "i1"
         },
         "xaxis": "x",
         "y": {
          "bdata": "gdRLkx++tD95ILZV5ua8P0ZATAR0XcU/juM4juM4FkDnQHoyQBWlPw==",
          "dtype": "f8"
         },
         "yaxis": "y"
        },
        {
         "marker": {
          "color": {
           "bdata": "gdRLkx++tD95ILZV5ua8P0ZATAR0XcU/juM4juM4FkDnQHoyQBWlPw==",
           "dtype": "f8"
          },
          "colorscale": [
           [
            0,
            "rgb(0,104,55)"
           ],
           [
            0.1,
            "rgb(26,152,80)"
           ],
           [
            0.2,
            "rgb(102,189,99)"
           ],
           [
            0.3,
            "rgb(166,217,106)"
           ],
           [
            0.4,
            "rgb(217,239,139)"
           ],
           [
            0.5,
            "rgb(255,255,191)"
           ],
           [
            0.6,
            "rgb(254,224,139)"
           ],
           [
            0.7,
            "rgb(253,174,97)"
           ],
           [
            0.8,
            "rgb(244,109,67)"
           ],
           [
            0.9,
            "rgb(215,48,39)"
           ],
           [
            1,
            "rgb(165,0,38)"
           ]
          ],
          "showscale": true,
          "size": 15
         },
         "mode": "markers+text",
         "name": "Cụm",
         "text": [
          "C0",
          "C1",
          "C2",
          "C3",
          "C4"
         ],
         "textposition": "top center",
         "type": "scatter",
         "x": {
          "bdata": "u3MzAoovKwSB0BsEEgAAAP2VOwA=",
          "dtype": "u4"
         },
         "xaxis": "x2",
         "y": {
          "bdata": "gdRLkx++tD95ILZV5ua8P0ZATAR0XcU/juM4juM4FkDnQHoyQBWlPw==",
          "dtype": "f8"
         },
         "yaxis": "y2"
        },
        {
         "delta": {
          "reference": 1
         },
         "domain": {
          "x": [
           0.55,
           1
          ],
          "y": [
           0,
           0.375
          ]
         },
         "gauge": {
          "axis": {
           "range": [
            0,
            15
           ]
          },
          "bar": {
           "color": "darkblue"
          },
          "steps": [
           {
            "color": "lightgreen",
            "range": [
             0,
             1
            ]
           },
           {
            "color": "lightyellow",
            "range": [
             1,
             10
            ]
           },
           {
            "color": "lightcoral",
            "range": [
             10,
             15
            ]
           }
          ],
          "threshold": {
           "line": {
            "color": "red",
            "width": 4
           },
           "thickness": 0.75,
           "value": 10
          }
         },
         "mode": "gauge+number+delta",
         "title": {
          "text": "Tỷ lệ TB (%)"
         },
         "type": "indicator",
         "value": 0.12551096402927758
        }
       ],
       "layout": {
        "annotations": [
         {
          "font": {
           "size": 16
          },
          "showarrow": false,
          "text": "Tỷ Lệ Rửa Tiền Theo Cụm (%)",
          "x": 0.5,
          "xanchor": "center",
          "xref": "paper",
          "y": 1,
          "yanchor": "bottom",
          "yref": "paper"
         },
         {
          "font": {
           "size": 16
          },
          "showarrow": false,
          "text": "Số Lượng Giao Dịch vs Tỷ Lệ Rửa Tiền",
          "x": 0.225,
          "xanchor": "center",
          "xref": "paper",
          "y": 0.375,
          "yanchor": "bottom",
          "yref": "paper"
         },
         {
          "font": {
           "size": 16
          },
          "showarrow": false,
          "text": "Tổng Quan Rủi Ro",
          "x": 0.775,
          "xanchor": "center",
          "xref": "paper",
          "y": 0.375,
          "yanchor": "bottom",
          "yref": "paper"
         },
         {
          "showarrow": false,
          "text": "Ngưỡng Cao (10%)",
          "x": 1,
          "xanchor": "right",
          "xref": "x domain",
          "y": 10,
          "yanchor": "bottom",
          "yref": "y"
         },
         {
          "showarrow": false,
          "text": "Ngưỡng TB (1%)",
          "x": 1,
          "xanchor": "right",
          "xref": "x domain",
          "y": 1,
          "yanchor": "bottom",
          "yref": "y"
         }
        ],
        "height": 900,
        "shapes": [
         {
          "line": {
           "color": "red",
           "dash": "dash"
          },
          "type": "line",
          "x0": 0,
          "x1": 1,
          "xref": "x domain",
          "y0": 10,
          "y1": 10,
          "yref": "y"
         },
         {
          "line": {
           "color": "orange",
           "dash": "dot"
          },
          "type": "line",
          "x0": 0,
          "x1": 1,
          "xref": "x domain",
          "y0": 1,
          "y1": 1,
          "yref": "y"
         }
        ],
        "showlegend": false,
        "template": {
         "data": {
          "bar": [
           {
            "error_x": {
             "color": "#2a3f5f"
            },
            "error_y": {
             "color": "#2a3f5f"
            },
            "marker": {
             "line": {
              "color": "#E5ECF6",
              "width": 0.5
             },
             "pattern": {
              "fillmode": "overlay",
              "size": 10,
              "solidity": 0.2
             }
            },
            "type": "bar"
           }
          ],
          "barpolar": [
           {
            "marker": {
             "line": {
              "color": "#E5ECF6",
              "width": 0.5
             },
             "pattern": {
              "fillmode": "overlay",
              "size": 10,
              "solidity": 0.2
             }
            },
            "type": "barpolar"
           }
          ],
          "carpet": [
           {
            "aaxis": {
             "endlinecolor": "#2a3f5f",
             "gridcolor": "white",
             "linecolor": "white",
             "minorgridcolor": "white",
             "startlinecolor": "#2a3f5f"
            },
            "baxis": {
             "endlinecolor": "#2a3f5f",
             "gridcolor": "white",
             "linecolor": "white",
             "minorgridcolor": "white",
             "startlinecolor": "#2a3f5f"
            },
            "type": "carpet"
           }
          ],
          "choropleth": [
           {
            "colorbar": {
             "outlinewidth": 0,
             "ticks": ""
            },
            "type": "choropleth"
           }
          ],
          "contour": [
           {
            "colorbar": {
             "outlinewidth": 0,
             "ticks": ""
            },
            "colorscale": [
             [
              0,
              "#0d0887"
             ],
             [
              0.1111111111111111,
              "#46039f"
             ],
             [
              0.2222222222222222,
              "#7201a8"
             ],
             [
              0.3333333333333333,
              "#9c179e"
             ],
             [
              0.4444444444444444,
              "#bd3786"
             ],
             [
              0.5555555555555556,
              "#d8576b"
             ],
             [
              0.6666666666666666,
              "#ed7953"
             ],
             [
              0.7777777777777778,
              "#fb9f3a"
             ],
             [
              0.8888888888888888,
              "#fdca26"
             ],
             [
              1,
              "#f0f921"
             ]
            ],
            "type": "contour"
           }
          ],
          "contourcarpet": [
           {
            "colorbar": {
             "outlinewidth": 0,
             "ticks": ""
            },
            "type": "contourcarpet"
           }
          ],
          "heatmap": [
           {
            "colorbar": {
             "outlinewidth": 0,
             "ticks": ""
            },
            "colorscale": [
             [
              0,
              "#0d0887"
             ],
             [
              0.1111111111111111,
              "#46039f"
             ],
             [
              0.2222222222222222,
              "#7201a8"
             ],
             [
              0.3333333333333333,
              "#9c179e"
             ],
             [
              0.4444444444444444,
              "#bd3786"
             ],
             [
              0.5555555555555556,
              "#d8576b"
             ],
             [
              0.6666666666666666,
              "#ed7953"
             ],
             [
              0.7777777777777778,
              "#fb9f3a"
             ],
             [
              0.8888888888888888,
              "#fdca26"
             ],
             [
              1,
              "#f0f921"
             ]
            ],
            "type": "heatmap"
           }
          ],
          "histogram": [
           {
            "marker": {
             "pattern": {
              "fillmode": "overlay",
              "size": 10,
              "solidity": 0.2
             }
            },
            "type": "histogram"
           }
          ],
          "histogram2d": [
           {
            "colorbar": {
             "outlinewidth": 0,
             "ticks": ""
            },
            "colorscale": [
             [
              0,
              "#0d0887"
             ],
             [
              0.1111111111111111,
              "#46039f"
             ],
             [
              0.2222222222222222,
              "#7201a8"
             ],
             [
              0.3333333333333333,
              "#9c179e"
             ],
             [
              0.4444444444444444,
              "#bd3786"
             ],
             [
              0.5555555555555556,
              "#d8576b"
             ],
             [
              0.6666666666666666,
              "#ed7953"
             ],
             [
              0.7777777777777778,
              "#fb9f3a"
             ],
             [
              0.8888888888888888,
              "#fdca26"
             ],
             [
              1,
              "#f0f921"
             ]
            ],
            "type": "histogram2d"
           }
          ],
          "histogram2dcontour": [
           {
            "colorbar": {
             "outlinewidth": 0,
             "ticks": ""
            },
            "colorscale": [
             [
              0,
              "#0d0887"
             ],
             [
              0.1111111111111111,
              "#46039f"
             ],
             [
              0.2222222222222222,
              "#7201a8"
             ],
             [
              0.3333333333333333,
              "#9c179e"
             ],
             [
              0.4444444444444444,
              "#bd3786"
             ],
             [
              0.5555555555555556,
              "#d8576b"
             ],
             [
              0.6666666666666666,
              "#ed7953"
             ],
             [
              0.7777777777777778,
              "#fb9f3a"
             ],
             [
              0.8888888888888888,
              "#fdca26"
             ],
             [
              1,
              "#f0f921"
             ]
            ],
            "type": "histogram2dcontour"
           }
          ],
          "mesh3d": [
           {
            "colorbar": {
             "outlinewidth": 0,
             "ticks": ""
            },
            "type": "mesh3d"
           }
          ],
          "parcoords": [
           {
            "line": {
             "colorbar": {
              "outlinewidth": 0,
              "ticks": ""
             }
            },
            "type": "parcoords"
           }
          ],
          "pie": [
           {
            "automargin": true,
            "type": "pie"
           }
          ],
          "scatter": [
           {
            "fillpattern": {
             "fillmode": "overlay",
             "size": 10,
             "solidity": 0.2
            },
            "type": "scatter"
           }
          ],
          "scatter3d": [
           {
            "line": {
             "colorbar": {
              "outlinewidth": 0,
              "ticks": ""
             }
            },
            "marker": {
             "colorbar": {
              "outlinewidth": 0,
              "ticks": ""
             }
            },
            "type": "scatter3d"
           }
          ],
          "scattercarpet": [
           {
            "marker": {
             "colorbar": {
              "outlinewidth": 0,
              "ticks": ""
             }
            },
            "type": "scattercarpet"
           }
          ],
          "scattergeo": [
           {
            "marker": {
             "colorbar": {
              "outlinewidth": 0,
              "ticks": ""
             }
            },
            "type": "scattergeo"
           }
          ],
          "scattergl": [
           {
            "marker": {
             "colorbar": {
              "outlinewidth": 0,
              "ticks": ""
             }
            },
            "type": "scattergl"
           }
          ],
          "scattermap": [
           {
            "marker": {
             "colorbar": {
              "outlinewidth": 0,
              "ticks": ""
             }
            },
            "type": "scattermap"
           }
          ],
          "scattermapbox": [
           {
            "marker": {
             "colorbar": {
              "outlinewidth": 0,
              "ticks": ""
             }
            },
            "type": "scattermapbox"
           }
          ],
          "scatterpolar": [
           {
            "marker": {
             "colorbar": {
              "outlinewidth": 0,
              "ticks": ""
             }
            },
            "type": "scatterpolar"
           }
          ],
          "scatterpolargl": [
           {
            "marker": {
             "colorbar": {
              "outlinewidth": 0,
              "ticks": ""
             }
            },
            "type": "scatterpolargl"
           }
          ],
          "scatterternary": [
           {
            "marker": {
             "colorbar": {
              "outlinewidth": 0,
              "ticks": ""
             }
            },
            "type": "scatterternary"
           }
          ],
          "surface": [
           {
            "colorbar": {
             "outlinewidth": 0,
             "ticks": ""
            },
            "colorscale": [
             [
              0,
              "#0d0887"
             ],
             [
              0.1111111111111111,
              "#46039f"
             ],
             [
              0.2222222222222222,
              "#7201a8"
             ],
             [
              0.3333333333333333,
              "#9c179e"
             ],
             [
              0.4444444444444444,
              "#bd3786"
             ],
             [
              0.5555555555555556,
              "#d8576b"
             ],
             [
              0.6666666666666666,
              "#ed7953"
             ],
             [
              0.7777777777777778,
              "#fb9f3a"
             ],
             [
              0.8888888888888888,
              "#fdca26"
             ],
             [
              1,
              "#f0f921"
             ]
            ],
            "type": "surface"
           }
          ],
          "table": [
           {
            "cells": {
             "fill": {
              "color": "#EBF0F8"
             },
             "line": {
              "color": "white"
             }
            },
            "header": {
             "fill": {
              "color": "#C8D4E3"
             },
             "line": {
              "color": "white"
             }
            },
            "type": "table"
           }
          ]
         },
         "layout": {
          "annotationdefaults": {
           "arrowcolor": "#2a3f5f",
           "arrowhead": 0,
           "arrowwidth": 1
          },
          "autotypenumbers": "strict",
          "coloraxis": {
           "colorbar": {
            "outlinewidth": 0,
            "ticks": ""
           }
          },
          "colorscale": {
           "diverging": [
            [
             0,
             "#8e0152"
            ],
            [
             0.1,
             "#c51b7d"
            ],
            [
             0.2,
             "#de77ae"
            ],
            [
             0.3,
             "#f1b6da"
            ],
            [
             0.4,
             "#fde0ef"
            ],
            [
             0.5,
             "#f7f7f7"
            ],
            [
             0.6,
             "#e6f5d0"
            ],
            [
             0.7,
             "#b8e186"
            ],
            [
             0.8,
             "#7fbc41"
            ],
            [
             0.9,
             "#4d9221"
            ],
            [
             1,
             "#276419"
            ]
           ],
           "sequential": [
            [
             0,
             "#0d0887"
            ],
            [
             0.1111111111111111,
             "#46039f"
            ],
            [
             0.2222222222222222,
             "#7201a8"
            ],
            [
             0.3333333333333333,
             "#9c179e"
            ],
            [
             0.4444444444444444,
             "#bd3786"
            ],
            [
             0.5555555555555556,
             "#d8576b"
            ],
            [
             0.6666666666666666,
             "#ed7953"
            ],
            [
             0.7777777777777778,
             "#fb9f3a"
            ],
            [
             0.8888888888888888,
             "#fdca26"
            ],
            [
             1,
             "#f0f921"
            ]
           ],
           "sequentialminus": [
            [
             0,
             "#0d0887"
            ],
            [
             0.1111111111111111,
             "#46039f"
            ],
            [
             0.2222222222222222,
             "#7201a8"
            ],
            [
             0.3333333333333333,
             "#9c179e"
            ],
            [
             0.4444444444444444,
             "#bd3786"
            ],
            [
             0.5555555555555556,
             "#d8576b"
            ],
            [
             0.6666666666666666,
             "#ed7953"
            ],
            [
             0.7777777777777778,
             "#fb9f3a"
            ],
            [
             0.8888888888888888,
             "#fdca26"
            ],
            [
             1,
             "#f0f921"
            ]
           ]
          },
          "colorway": [
           "#636efa",
           "#EF553B",
           "#00cc96",
           "#ab63fa",
           "#FFA15A",
           "#19d3f3",
           "#FF6692",
           "#B6E880",
           "#FF97FF",
           "#FECB52"
          ],
          "font": {
           "color": "#2a3f5f"
          },
          "geo": {
           "bgcolor": "white",
           "lakecolor": "white",
           "landcolor": "#E5ECF6",
           "showlakes": true,
           "showland": true,
           "subunitcolor": "white"
          },
          "hoverlabel": {
           "align": "left"
          },
          "hovermode": "closest",
          "mapbox": {
           "style": "light"
          },
          "paper_bgcolor": "white",
          "plot_bgcolor": "#E5ECF6",
          "polar": {
           "angularaxis": {
            "gridcolor": "white",
            "linecolor": "white",
            "ticks": ""
           },
           "bgcolor": "#E5ECF6",
           "radialaxis": {
            "gridcolor": "white",
            "linecolor": "white",
            "ticks": ""
           }
          },
          "scene": {
           "xaxis": {
            "backgroundcolor": "#E5ECF6",
            "gridcolor": "white",
            "gridwidth": 2,
            "linecolor": "white",
            "showbackground": true,
            "ticks": "",
            "zerolinecolor": "white"
           },
           "yaxis": {
            "backgroundcolor": "#E5ECF6",
            "gridcolor": "white",
            "gridwidth": 2,
            "linecolor": "white",
            "showbackground": true,
            "ticks": "",
            "zerolinecolor": "white"
           },
           "zaxis": {
            "backgroundcolor": "#E5ECF6",
            "gridcolor": "white",
            "gridwidth": 2,
            "linecolor": "white",
            "showbackground": true,
            "ticks": "",
            "zerolinecolor": "white"
           }
          },
          "shapedefaults": {
           "line": {
            "color": "#2a3f5f"
           }
          },
          "ternary": {
           "aaxis": {
            "gridcolor": "white",
            "linecolor": "white",
            "ticks": ""
           },
           "baxis": {
            "gridcolor": "white",
            "linecolor": "white",
            "ticks": ""
           },
           "bgcolor": "#E5ECF6",
           "caxis": {
            "gridcolor": "white",
            "linecolor": "white",
            "ticks": ""
           }
          },
          "title": {
           "x": 0.05
          },
          "xaxis": {
           "automargin": true,
           "gridcolor": "white",
           "linecolor": "white",
           "ticks": "",
           "title": {
            "standoff": 15
           },
           "zerolinecolor": "white",
           "zerolinewidth": 2
          },
          "yaxis": {
           "automargin": true,
           "gridcolor": "white",
           "linecolor": "white",
           "ticks": "",
           "title": {
            "standoff": 15
           },
           "zerolinecolor": "white",
           "zerolinewidth": 2
          }
         }
        },
        "title": {
         "text": "Phân Tích Rủi Ro Toàn Diện"
        },
        "xaxis": {
         "anchor": "y",
         "domain": [
          0,
          1
         ],
         "title": {
          "text": "Cụm"
         }
        },
        "xaxis2": {
         "anchor": "y2",
         "domain": [
          0,
          0.45
         ],
         "title": {
          "text": "Tổng giao dịch"
         },
         "type": "log"
        },
        "yaxis": {
         "anchor": "x",
         "domain": [
          0.625,
          1
         ],
         "title": {
          "text": "Tỷ lệ (%)"
         }
        },
        "yaxis2": {
         "anchor": "x2",
         "domain": [
          0,
          0.375
         ],
         "title": {
          "text": "Tỷ lệ rửa tiền (%)"
         }
        }
       }
      }
     },
     "metadata": {},
     "output_type": "display_data"
    }
   ],
   "source": [
    "# Biểu đồ tỷ lệ rửa tiền với nhiều góc nhìn\n",
    "launder_df = laundering_stats.to_pandas()\n",
    "\n",
    "fig = make_subplots(\n",
    "    rows=2, cols=2,\n",
    "    specs=[[{\"type\": \"bar\", \"colspan\": 2}, None],\n",
    "           [{\"type\": \"scatter\"}, {\"type\": \"indicator\"}]],\n",
    "    subplot_titles=(\n",
    "        'Tỷ Lệ Rửa Tiền Theo Cụm (%)',\n",
    "        'Số Lượng Giao Dịch vs Tỷ Lệ Rửa Tiền',\n",
    "        'Tổng Quan Rủi Ro'\n",
    "    )\n",
    ")\n",
    "\n",
    "# Bar chart với màu sắc theo mức độ nguy hiểm\n",
    "colors = ['green' if r < 1 else 'orange' if r < 10 else 'red' \n",
    "          for r in launder_df['laundering_rate']]\n",
    "\n",
    "fig.add_trace(\n",
    "    go.Bar(\n",
    "        x=launder_df['cluster'],\n",
    "        y=launder_df['laundering_rate'],\n",
    "        text=launder_df['laundering_rate'].apply(lambda x: f\"{x:.3f}%\"),\n",
    "        textposition='outside',\n",
    "        marker_color=colors,\n",
    "        name='Tỷ lệ'\n",
    "    ),\n",
    "    row=1, col=1\n",
    ")\n",
    "\n",
    "# Thêm ngưỡng\n",
    "fig.add_hline(y=10, line_dash=\"dash\", line_color=\"red\", \n",
    "              annotation_text=\"Ngưỡng Cao (10%)\", row=1, col=1)\n",
    "fig.add_hline(y=1, line_dash=\"dot\", line_color=\"orange\",\n",
    "              annotation_text=\"Ngưỡng TB (1%)\", row=1, col=1)\n",
    "\n",
    "# Scatter: Total vs Rate\n",
    "fig.add_trace(\n",
    "    go.Scatter(\n",
    "        x=launder_df['total'],\n",
    "        y=launder_df['laundering_rate'],\n",
    "        mode='markers+text',\n",
    "        text=[f'C{i}' for i in launder_df['cluster']],\n",
    "        textposition='top center',\n",
    "        marker=dict(size=15, color=launder_df['laundering_rate'], \n",
    "                   colorscale='RdYlGn_r', showscale=True),\n",
    "        name='Cụm'\n",
    "    ),\n",
    "    row=2, col=1\n",
    ")\n",
    "\n",
    "# Indicator: Overall risk\n",
    "high_risk_count = len(launder_df[launder_df['laundering_rate'] >= 10])\n",
    "overall_rate = launder_df['laundering_count'].sum() / launder_df['total'].sum() * 100\n",
    "\n",
    "fig.add_trace(\n",
    "    go.Indicator(\n",
    "        mode=\"gauge+number+delta\",\n",
    "        value=overall_rate,\n",
    "        title={'text': \"Tỷ lệ TB (%)\"},\n",
    "        delta={'reference': 1.0},\n",
    "        gauge={\n",
    "            'axis': {'range': [0, 15]},\n",
    "            'bar': {'color': \"darkblue\"},\n",
    "            'steps': [\n",
    "                {'range': [0, 1], 'color': \"lightgreen\"},\n",
    "                {'range': [1, 10], 'color': \"lightyellow\"},\n",
    "                {'range': [10, 15], 'color': \"lightcoral\"}],\n",
    "            'threshold': {\n",
    "                'line': {'color': \"red\", 'width': 4},\n",
    "                'thickness': 0.75,\n",
    "                'value': 10}\n",
    "        }\n",
    "    ),\n",
    "    row=2, col=2\n",
    ")\n",
    "\n",
    "fig.update_xaxes(title_text=\"Cụm\", row=1, col=1)\n",
    "fig.update_yaxes(title_text=\"Tỷ lệ (%)\", row=1, col=1)\n",
    "fig.update_xaxes(title_text=\"Tổng giao dịch\", type=\"log\", row=2, col=1)\n",
    "fig.update_yaxes(title_text=\"Tỷ lệ rửa tiền (%)\", row=2, col=1)\n",
    "\n",
    "fig.update_layout(height=900, showlegend=False, title_text=\"Phân Tích Rủi Ro Toàn Diện\")\n",
    "fig.show()"
   ]
  },
  {
   "cell_type": "markdown",
   "metadata": {},
   "source": [
    "<a id=\"11\"></a>\n",
    "## 11. 📝 Kết Luận & Khuyến Nghị"
   ]
  },
  {
   "cell_type": "code",
   "execution_count": 11,
   "metadata": {},
   "outputs": [
    {
     "name": "stdout",
     "output_type": "stream",
     "text": [
      "======================================================================\n",
      "KẾT LUẬN & KHUYẾN NGHỊ\n",
      "======================================================================\n",
      "\n",
      "📊 THỐNG KÊ TỔNG QUÁT:\n",
      "  ├─ Tổng giao dịch: 179,702,229\n",
      "  ├─ Giao dịch rửa tiền: 225,546\n",
      "  ├─ Tỷ lệ trung bình: 0.1255%\n",
      "  └─ Số cụm: 5\n",
      "\n",
      "🎯 PHÂN LOẠI RỦI RO:\n",
      "  ├─ 🔴 Rủi ro CAO (≥10%): 0 cụm\n",
      "  ├─ 🟡 Rủi ro TRUNG BÌNH (1-10%): 1 cụm\n",
      "  │  └─ Cụm 3: 5.556% (18 GD)\n",
      "  └─ 🟢 Rủi ro THẤP (<1%): 4 cụm\n",
      "     └─ Cụm 0: 0.081% (36,926,395 GD)\n",
      "     └─ Cụm 1: 0.113% (69,939,082 GD)\n",
      "     └─ Cụm 2: 0.167% (68,931,713 GD)\n",
      "     └─ Cụm 4: 0.041% (3,905,021 GD)\n",
      "\n",
      "⚠️  CỤM BẤT THƯỜNG (OUTLIER):\n",
      "  └─ Cụm 3: Chỉ 18 GD nhưng tỷ lệ 5.56%\n",
      "     → Khuyến nghị: Kiểm tra thủ công từng giao dịch\n",
      "\n",
      "💡 KHUYẾN NGHỊ:\n",
      "  ✅ KHÔNG có cụm rủi ro cao (>10%)\n",
      "  ✅ Hệ thống hoạt động tốt, tiếp tục giám sát định kỳ\n",
      "\n",
      "👁️  CỤM CẦN THEO DÕI (≥0.5% và ≥1000 GD):\n",
      "\n",
      "======================================================================\n",
      "📅 Phân tích hoàn tất: 2025-10-30 13:04:25\n",
      "📁 Snapshot: snapshot_20251030_095037\n",
      "======================================================================\n"
     ]
    }
   ],
   "source": [
    "print(\"=\"*70)\n",
    "print(\"KẾT LUẬN & KHUYẾN NGHỊ\")\n",
    "print(\"=\"*70)\n",
    "\n",
    "# Thống kê tổng thể\n",
    "total_transactions = len(clusters)\n",
    "total_laundering = laundering_stats['laundering_count'].sum()\n",
    "overall_rate = (total_laundering / total_transactions) * 100\n",
    "\n",
    "print(f\"\\n📊 THỐNG KÊ TỔNG QUÁT:\")\n",
    "print(f\"  ├─ Tổng giao dịch: {total_transactions:,}\")\n",
    "print(f\"  ├─ Giao dịch rửa tiền: {total_laundering:,}\")\n",
    "print(f\"  ├─ Tỷ lệ trung bình: {overall_rate:.4f}%\")\n",
    "print(f\"  └─ Số cụm: {np.unique(clusters).size}\")\n",
    "\n",
    "# Phân loại cụm\n",
    "high_risk = laundering_stats.filter(pl.col('laundering_rate') >= 10.0)\n",
    "medium_risk = laundering_stats.filter(\n",
    "    (pl.col('laundering_rate') >= 1.0) & (pl.col('laundering_rate') < 10.0)\n",
    ")\n",
    "low_risk = laundering_stats.filter(pl.col('laundering_rate') < 1.0)\n",
    "\n",
    "print(f\"\\n🎯 PHÂN LOẠI RỦI RO:\")\n",
    "print(f\"  ├─ 🔴 Rủi ro CAO (≥10%): {len(high_risk)} cụm\")\n",
    "if len(high_risk) > 0:\n",
    "    for row in high_risk.iter_rows(named=True):\n",
    "        print(f\"  │  └─ Cụm {row['cluster']}: {row['laundering_rate']:.3f}% ({row['total']:,} GD)\")\n",
    "        \n",
    "print(f\"  ├─ 🟡 Rủi ro TRUNG BÌNH (1-10%): {len(medium_risk)} cụm\")\n",
    "if len(medium_risk) > 0:\n",
    "    for row in medium_risk.iter_rows(named=True):\n",
    "        print(f\"  │  └─ Cụm {row['cluster']}: {row['laundering_rate']:.3f}% ({row['total']:,} GD)\")\n",
    "        \n",
    "print(f\"  └─ 🟢 Rủi ro THẤP (<1%): {len(low_risk)} cụm\")\n",
    "if len(low_risk) > 0:\n",
    "    for row in low_risk.iter_rows(named=True):\n",
    "        print(f\"     └─ Cụm {row['cluster']}: {row['laundering_rate']:.3f}% ({row['total']:,} GD)\")\n",
    "\n",
    "# Cụm outlier\n",
    "print(f\"\\n⚠️  CỤM BẤT THƯỜNG (OUTLIER):\")\n",
    "for cluster_id, count in cluster_distribution.items():\n",
    "    if count < 100:\n",
    "        rate = laundering_stats.filter(pl.col('cluster') == cluster_id)['laundering_rate'][0]\n",
    "        print(f\"  └─ Cụm {cluster_id}: Chỉ {count} GD nhưng tỷ lệ {rate:.2f}%\")\n",
    "        print(f\"     → Khuyến nghị: Kiểm tra thủ công từng giao dịch\")\n",
    "\n",
    "# Khuyến nghị\n",
    "print(f\"\\n💡 KHUYẾN NGHỊ:\")\n",
    "if len(high_risk) == 0:\n",
    "    print(f\"  ✅ KHÔNG có cụm rủi ro cao (>10%)\")\n",
    "    print(f\"  ✅ Hệ thống hoạt động tốt, tiếp tục giám sát định kỳ\")\n",
    "else:\n",
    "    print(f\"  ⚠️  CÓ {len(high_risk)} cụm rủi ro cao cần xem xét ngay\")\n",
    "    print(f\"  ⚠️  Ưu tiên kiểm tra các giao dịch trong cụm này\")\n",
    "\n",
    "# Cụm cần theo dõi\n",
    "watch_clusters = laundering_stats.filter(\n",
    "    (pl.col('laundering_rate') >= 0.5) & (pl.col('total') >= 1000)\n",
    ")\n",
    "print(f\"\\n👁️  CỤM CẦN THEO DÕI (≥0.5% và ≥1000 GD):\")\n",
    "for row in watch_clusters.iter_rows(named=True):\n",
    "    print(f\"  └─ Cụm {row['cluster']}: {row['laundering_rate']:.3f}% ({row['total']:,} GD)\")\n",
    "\n",
    "print(\"\\n\" + \"=\"*70)\n",
    "print(f\"📅 Phân tích hoàn tất: {datetime.now().strftime('%Y-%m-%d %H:%M:%S')}\")\n",
    "print(f\"📁 Snapshot: {latest_snapshot.name}\")\n",
    "print(\"=\"*70)"
   ]
  }
 ],
 "metadata": {
  "kernelspec": {
   "display_name": ".venv",
   "language": "python",
   "name": "python3"
  },
  "language_info": {
   "codemirror_mode": {
    "name": "ipython",
    "version": 3
   },
   "file_extension": ".py",
   "mimetype": "text/x-python",
   "name": "python",
   "nbconvert_exporter": "python",
   "pygments_lexer": "ipython3",
   "version": "3.12.11"
  }
 },
 "nbformat": 4,
 "nbformat_minor": 4
}
